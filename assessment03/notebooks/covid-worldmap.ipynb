{
 "cells": [
  {
   "cell_type": "code",
   "execution_count": 1,
   "metadata": {},
   "outputs": [],
   "source": [
    "import pandas as pd\n",
    "import plotly.express as px ### for plotting the data on world map"
   ]
  },
  {
   "cell_type": "code",
   "execution_count": null,
   "metadata": {},
   "outputs": [],
   "source": []
  },
  {
   "cell_type": "code",
   "execution_count": 58,
   "metadata": {},
   "outputs": [],
   "source": [
    "def load_csv(file_name):\n",
    "    return pd.read_csv('../data/' + file_name)\n",
    "\n",
    "df_owid_covid = load_csv('covid-data.csv')\n",
    "\n",
    "df_owid_covid = df_owid_covid.groupby(\"location\")['new_cases','new_deaths'].sum().reset_index()\n",
    "df_owid_covid = df_owid_covid.sort_values(['new_cases'], ascending=False)[1:] #removing world category\n",
    "\n",
    "df_owid_covid.rename(columns={'new_cases': \"confirmed\"}, inplace=True)\n",
    "df_owid_covid.rename(columns={'new_deaths': \"deaths\"}, inplace=True)"
   ]
  },
  {
   "cell_type": "code",
   "execution_count": null,
   "metadata": {},
   "outputs": [],
   "source": []
  },
  {
   "cell_type": "code",
   "execution_count": 59,
   "metadata": {},
   "outputs": [],
   "source": [
    "color_scale = [ 'yellow', 'orange', 'red', 'green', 'blue', 'purple', 'black']\n",
    "\n",
    "def plot_map(df, metric):\n",
    "    figure = px.choropleth(df,\n",
    "                           locations=\"location\",\n",
    "                           locationmode=\"country names\", \n",
    "                           color=metric,\n",
    "                           hover_name=\"location\", \n",
    "                           color_continuous_scale=color_scale,\n",
    "                           range_color=[df[metric].min(), df[metric].max()],\n",
    "                           title=\"Countries with \" + metric)\n",
    "    figure.show()"
   ]
  },
  {
   "cell_type": "code",
   "execution_count": null,
   "metadata": {},
   "outputs": [],
   "source": []
  },
  {
   "cell_type": "code",
   "execution_count": 60,
   "metadata": {},
   "outputs": [
    {
     "data": {
      "application/vnd.plotly.v1+json": {
       "config": {
        "plotlyServerURL": "https://plot.ly"
       },
       "data": [
        {
         "coloraxis": "coloraxis",
         "geo": "geo",
         "hovertemplate": "<b>%{hovertext}</b><br><br>location=%{location}<br>confirmed=%{z}<extra></extra>",
         "hovertext": [
          "United States",
          "India",
          "Brazil",
          "France",
          "Russia",
          "Spain",
          "Argentina",
          "United Kingdom",
          "Colombia",
          "Mexico",
          "Italy",
          "Peru",
          "South Africa",
          "Iran",
          "Germany",
          "Poland",
          "Chile",
          "Belgium",
          "Iraq",
          "Ukraine",
          "Indonesia",
          "Bangladesh",
          "Czech Republic",
          "Netherlands",
          "Philippines",
          "Turkey",
          "Saudi Arabia",
          "Pakistan",
          "Israel",
          "Romania",
          "Canada",
          "Morocco",
          "Switzerland",
          "Nepal",
          "Portugal",
          "Ecuador",
          "Kazakhstan",
          "Austria",
          "Sweden",
          "Bolivia",
          "United Arab Emirates",
          "Panama",
          "Qatar",
          "Kuwait",
          "Dominican Republic",
          "Oman",
          "Costa Rica",
          "Hungary",
          "Guatemala",
          "Jordan",
          "Egypt",
          "Japan",
          "Armenia",
          "Belarus",
          "Honduras",
          "Ethiopia",
          "Venezuela",
          "Lebanon",
          "China",
          "Bahrain",
          "Moldova",
          "Slovakia",
          "Bulgaria",
          "Puerto Rico",
          "Tunisia",
          "Palestine",
          "Uzbekistan",
          "Libya",
          "Paraguay",
          "Croatia",
          "Azerbaijan",
          "Ireland",
          "Nigeria",
          "Kyrgyzstan",
          "Serbia",
          "Kenya",
          "Bosnia and Herzegovina",
          "Algeria",
          "Myanmar",
          "Georgia",
          "Singapore",
          "Greece",
          "Denmark",
          "Ghana",
          "Slovenia",
          "Afghanistan",
          "Malaysia",
          "Macedonia",
          "El Salvador",
          "Australia",
          "South Korea",
          "Lithuania",
          "Albania",
          "Kosovo",
          "Norway",
          "Montenegro",
          "Luxembourg",
          "Cameroon",
          "Cote d'Ivoire",
          "Finland",
          "Madagascar",
          "Zambia",
          "Senegal",
          "Uganda",
          "Sudan",
          "Sri Lanka",
          "Mozambique",
          "Namibia",
          "Guinea",
          "Angola",
          "Maldives",
          "Democratic Republic of Congo",
          "Tajikistan",
          "French Polynesia",
          "Jamaica",
          "Cape Verde",
          "Haiti",
          "Gabon",
          "Zimbabwe",
          "Latvia",
          "Botswana",
          "Mauritania",
          "Cuba",
          "Malta",
          "Bahamas",
          "Syria",
          "Estonia",
          "Swaziland",
          "Cyprus",
          "Malawi",
          "Trinidad and Tobago",
          "Djibouti",
          "Nicaragua",
          "Andorra",
          "Congo",
          "Suriname",
          "Guam",
          "Rwanda",
          "Equatorial Guinea",
          "Iceland",
          "Central African Republic",
          "Aruba",
          "Guyana",
          "Somalia",
          "Belize",
          "Thailand",
          "Gambia",
          "Mali",
          "Uruguay",
          "South Sudan",
          "Benin",
          "Burkina Faso",
          "Togo",
          "Guinea-Bissau",
          "Sierra Leone",
          "Yemen",
          "Lesotho",
          "New Zealand",
          "Chad",
          "Liberia",
          "United States Virgin Islands",
          "Niger",
          "Vietnam",
          "Curacao",
          "San Marino",
          "Sao Tome and Principe",
          "Sint Maarten (Dutch part)",
          "Gibraltar",
          "Liechtenstein",
          "Western Sahara",
          "Turks and Caicos Islands",
          "International",
          "Jersey",
          "Burundi",
          "Papua New Guinea",
          "Taiwan",
          "Comoros",
          "Tanzania",
          "Faeroe Islands",
          "Eritrea",
          "Monaco",
          "Mauritius",
          "Mongolia",
          "Bhutan",
          "Isle of Man",
          "Cambodia",
          "Guernsey",
          "Cayman Islands",
          "Barbados",
          "Bermuda",
          "Seychelles",
          "Bonaire Sint Eustatius and Saba",
          "Brunei",
          "Antigua and Barbuda",
          "Saint Lucia",
          "Northern Mariana Islands",
          "Saint Vincent and the Grenadines",
          "British Virgin Islands",
          "Dominica",
          "Fiji",
          "Grenada",
          "Timor",
          "New Caledonia",
          "Vatican",
          "Laos",
          "Saint Kitts and Nevis",
          "Greenland",
          "Solomon Islands",
          "Montserrat",
          "Falkland Islands",
          "Anguilla",
          "Wallis and Futuna",
          "Marshall Islands",
          "Hong Kong"
         ],
         "locationmode": "country names",
         "locations": [
          "United States",
          "India",
          "Brazil",
          "France",
          "Russia",
          "Spain",
          "Argentina",
          "United Kingdom",
          "Colombia",
          "Mexico",
          "Italy",
          "Peru",
          "South Africa",
          "Iran",
          "Germany",
          "Poland",
          "Chile",
          "Belgium",
          "Iraq",
          "Ukraine",
          "Indonesia",
          "Bangladesh",
          "Czech Republic",
          "Netherlands",
          "Philippines",
          "Turkey",
          "Saudi Arabia",
          "Pakistan",
          "Israel",
          "Romania",
          "Canada",
          "Morocco",
          "Switzerland",
          "Nepal",
          "Portugal",
          "Ecuador",
          "Kazakhstan",
          "Austria",
          "Sweden",
          "Bolivia",
          "United Arab Emirates",
          "Panama",
          "Qatar",
          "Kuwait",
          "Dominican Republic",
          "Oman",
          "Costa Rica",
          "Hungary",
          "Guatemala",
          "Jordan",
          "Egypt",
          "Japan",
          "Armenia",
          "Belarus",
          "Honduras",
          "Ethiopia",
          "Venezuela",
          "Lebanon",
          "China",
          "Bahrain",
          "Moldova",
          "Slovakia",
          "Bulgaria",
          "Puerto Rico",
          "Tunisia",
          "Palestine",
          "Uzbekistan",
          "Libya",
          "Paraguay",
          "Croatia",
          "Azerbaijan",
          "Ireland",
          "Nigeria",
          "Kyrgyzstan",
          "Serbia",
          "Kenya",
          "Bosnia and Herzegovina",
          "Algeria",
          "Myanmar",
          "Georgia",
          "Singapore",
          "Greece",
          "Denmark",
          "Ghana",
          "Slovenia",
          "Afghanistan",
          "Malaysia",
          "Macedonia",
          "El Salvador",
          "Australia",
          "South Korea",
          "Lithuania",
          "Albania",
          "Kosovo",
          "Norway",
          "Montenegro",
          "Luxembourg",
          "Cameroon",
          "Cote d'Ivoire",
          "Finland",
          "Madagascar",
          "Zambia",
          "Senegal",
          "Uganda",
          "Sudan",
          "Sri Lanka",
          "Mozambique",
          "Namibia",
          "Guinea",
          "Angola",
          "Maldives",
          "Democratic Republic of Congo",
          "Tajikistan",
          "French Polynesia",
          "Jamaica",
          "Cape Verde",
          "Haiti",
          "Gabon",
          "Zimbabwe",
          "Latvia",
          "Botswana",
          "Mauritania",
          "Cuba",
          "Malta",
          "Bahamas",
          "Syria",
          "Estonia",
          "Swaziland",
          "Cyprus",
          "Malawi",
          "Trinidad and Tobago",
          "Djibouti",
          "Nicaragua",
          "Andorra",
          "Congo",
          "Suriname",
          "Guam",
          "Rwanda",
          "Equatorial Guinea",
          "Iceland",
          "Central African Republic",
          "Aruba",
          "Guyana",
          "Somalia",
          "Belize",
          "Thailand",
          "Gambia",
          "Mali",
          "Uruguay",
          "South Sudan",
          "Benin",
          "Burkina Faso",
          "Togo",
          "Guinea-Bissau",
          "Sierra Leone",
          "Yemen",
          "Lesotho",
          "New Zealand",
          "Chad",
          "Liberia",
          "United States Virgin Islands",
          "Niger",
          "Vietnam",
          "Curacao",
          "San Marino",
          "Sao Tome and Principe",
          "Sint Maarten (Dutch part)",
          "Gibraltar",
          "Liechtenstein",
          "Western Sahara",
          "Turks and Caicos Islands",
          "International",
          "Jersey",
          "Burundi",
          "Papua New Guinea",
          "Taiwan",
          "Comoros",
          "Tanzania",
          "Faeroe Islands",
          "Eritrea",
          "Monaco",
          "Mauritius",
          "Mongolia",
          "Bhutan",
          "Isle of Man",
          "Cambodia",
          "Guernsey",
          "Cayman Islands",
          "Barbados",
          "Bermuda",
          "Seychelles",
          "Bonaire Sint Eustatius and Saba",
          "Brunei",
          "Antigua and Barbuda",
          "Saint Lucia",
          "Northern Mariana Islands",
          "Saint Vincent and the Grenadines",
          "British Virgin Islands",
          "Dominica",
          "Fiji",
          "Grenada",
          "Timor",
          "New Caledonia",
          "Vatican",
          "Laos",
          "Saint Kitts and Nevis",
          "Greenland",
          "Solomon Islands",
          "Montserrat",
          "Falkland Islands",
          "Anguilla",
          "Wallis and Futuna",
          "Marshall Islands",
          "Hong Kong"
         ],
         "name": "",
         "type": "choropleth",
         "z": [
          9971651,
          8553657,
          5590025,
          1787324,
          1774334,
          1328832,
          1242169,
          1192013,
          1143887,
          967825,
          935104,
          922333,
          737278,
          682486,
          671868,
          546425,
          521558,
          499271,
          498549,
          460331,
          437716,
          420238,
          414828,
          409573,
          396395,
          394255,
          350592,
          344839,
          319562,
          303751,
          264113,
          256781,
          211160,
          194453,
          179324,
          174907,
          155876,
          152508,
          146461,
          142475,
          142143,
          139527,
          134203,
          131743,
          130182,
          118140,
          116363,
          114778,
          111262,
          109321,
          109201,
          108084,
          107466,
          106279,
          100508,
          99675,
          94883,
          94236,
          91560,
          83456,
          82346,
          75495,
          75160,
          72065,
          71119,
          70161,
          68788,
          68117,
          67589,
          67247,
          65411,
          65394,
          64090,
          63390,
          62747,
          62488,
          62423,
          62051,
          61377,
          60680,
          58056,
          56698,
          55121,
          49202,
          45161,
          42239,
          40209,
          39760,
          35145,
          27658,
          27553,
          24699,
          24206,
          24155,
          23225,
          22805,
          22481,
          22421,
          20832,
          17797,
          17223,
          16954,
          15708,
          14403,
          14090,
          13929,
          13768,
          13211,
          12426,
          12335,
          11986,
          11607,
          11336,
          9995,
          9506,
          9369,
          9127,
          9022,
          8531,
          8095,
          7835,
          7806,
          7297,
          7039,
          6947,
          6215,
          6125,
          6003,
          5987,
          5951,
          5849,
          5608,
          5591,
          5383,
          5379,
          5239,
          5233,
          5222,
          5092,
          5078,
          4879,
          4600,
          4514,
          4229,
          4176,
          3840,
          3684,
          3676,
          3514,
          2955,
          2745,
          2569,
          2516,
          2413,
          2381,
          2070,
          1967,
          1630,
          1547,
          1442,
          1405,
          1243,
          1213,
          1097,
          1043,
          962,
          896,
          793,
          788,
          766,
          707,
          696,
          643,
          614,
          597,
          578,
          563,
          509,
          497,
          491,
          486,
          452,
          368,
          359,
          357,
          297,
          279,
          250,
          242,
          209,
          158,
          154,
          148,
          131,
          131,
          100,
          76,
          72,
          42,
          34,
          32,
          30,
          29,
          26,
          24,
          19,
          17,
          13,
          13,
          13,
          3,
          1,
          1,
          0
         ]
        }
       ],
       "layout": {
        "coloraxis": {
         "cmax": 9971651,
         "cmin": 0,
         "colorbar": {
          "title": {
           "text": "confirmed"
          }
         },
         "colorscale": [
          [
           0,
           "yellow"
          ],
          [
           0.16666666666666666,
           "orange"
          ],
          [
           0.3333333333333333,
           "red"
          ],
          [
           0.5,
           "green"
          ],
          [
           0.6666666666666666,
           "blue"
          ],
          [
           0.8333333333333334,
           "purple"
          ],
          [
           1,
           "black"
          ]
         ]
        },
        "geo": {
         "center": {},
         "domain": {
          "x": [
           0,
           1
          ],
          "y": [
           0,
           1
          ]
         }
        },
        "legend": {
         "tracegroupgap": 0
        },
        "template": {
         "data": {
          "bar": [
           {
            "error_x": {
             "color": "#2a3f5f"
            },
            "error_y": {
             "color": "#2a3f5f"
            },
            "marker": {
             "line": {
              "color": "#E5ECF6",
              "width": 0.5
             }
            },
            "type": "bar"
           }
          ],
          "barpolar": [
           {
            "marker": {
             "line": {
              "color": "#E5ECF6",
              "width": 0.5
             }
            },
            "type": "barpolar"
           }
          ],
          "carpet": [
           {
            "aaxis": {
             "endlinecolor": "#2a3f5f",
             "gridcolor": "white",
             "linecolor": "white",
             "minorgridcolor": "white",
             "startlinecolor": "#2a3f5f"
            },
            "baxis": {
             "endlinecolor": "#2a3f5f",
             "gridcolor": "white",
             "linecolor": "white",
             "minorgridcolor": "white",
             "startlinecolor": "#2a3f5f"
            },
            "type": "carpet"
           }
          ],
          "choropleth": [
           {
            "colorbar": {
             "outlinewidth": 0,
             "ticks": ""
            },
            "type": "choropleth"
           }
          ],
          "contour": [
           {
            "colorbar": {
             "outlinewidth": 0,
             "ticks": ""
            },
            "colorscale": [
             [
              0,
              "#0d0887"
             ],
             [
              0.1111111111111111,
              "#46039f"
             ],
             [
              0.2222222222222222,
              "#7201a8"
             ],
             [
              0.3333333333333333,
              "#9c179e"
             ],
             [
              0.4444444444444444,
              "#bd3786"
             ],
             [
              0.5555555555555556,
              "#d8576b"
             ],
             [
              0.6666666666666666,
              "#ed7953"
             ],
             [
              0.7777777777777778,
              "#fb9f3a"
             ],
             [
              0.8888888888888888,
              "#fdca26"
             ],
             [
              1,
              "#f0f921"
             ]
            ],
            "type": "contour"
           }
          ],
          "contourcarpet": [
           {
            "colorbar": {
             "outlinewidth": 0,
             "ticks": ""
            },
            "type": "contourcarpet"
           }
          ],
          "heatmap": [
           {
            "colorbar": {
             "outlinewidth": 0,
             "ticks": ""
            },
            "colorscale": [
             [
              0,
              "#0d0887"
             ],
             [
              0.1111111111111111,
              "#46039f"
             ],
             [
              0.2222222222222222,
              "#7201a8"
             ],
             [
              0.3333333333333333,
              "#9c179e"
             ],
             [
              0.4444444444444444,
              "#bd3786"
             ],
             [
              0.5555555555555556,
              "#d8576b"
             ],
             [
              0.6666666666666666,
              "#ed7953"
             ],
             [
              0.7777777777777778,
              "#fb9f3a"
             ],
             [
              0.8888888888888888,
              "#fdca26"
             ],
             [
              1,
              "#f0f921"
             ]
            ],
            "type": "heatmap"
           }
          ],
          "heatmapgl": [
           {
            "colorbar": {
             "outlinewidth": 0,
             "ticks": ""
            },
            "colorscale": [
             [
              0,
              "#0d0887"
             ],
             [
              0.1111111111111111,
              "#46039f"
             ],
             [
              0.2222222222222222,
              "#7201a8"
             ],
             [
              0.3333333333333333,
              "#9c179e"
             ],
             [
              0.4444444444444444,
              "#bd3786"
             ],
             [
              0.5555555555555556,
              "#d8576b"
             ],
             [
              0.6666666666666666,
              "#ed7953"
             ],
             [
              0.7777777777777778,
              "#fb9f3a"
             ],
             [
              0.8888888888888888,
              "#fdca26"
             ],
             [
              1,
              "#f0f921"
             ]
            ],
            "type": "heatmapgl"
           }
          ],
          "histogram": [
           {
            "marker": {
             "colorbar": {
              "outlinewidth": 0,
              "ticks": ""
             }
            },
            "type": "histogram"
           }
          ],
          "histogram2d": [
           {
            "colorbar": {
             "outlinewidth": 0,
             "ticks": ""
            },
            "colorscale": [
             [
              0,
              "#0d0887"
             ],
             [
              0.1111111111111111,
              "#46039f"
             ],
             [
              0.2222222222222222,
              "#7201a8"
             ],
             [
              0.3333333333333333,
              "#9c179e"
             ],
             [
              0.4444444444444444,
              "#bd3786"
             ],
             [
              0.5555555555555556,
              "#d8576b"
             ],
             [
              0.6666666666666666,
              "#ed7953"
             ],
             [
              0.7777777777777778,
              "#fb9f3a"
             ],
             [
              0.8888888888888888,
              "#fdca26"
             ],
             [
              1,
              "#f0f921"
             ]
            ],
            "type": "histogram2d"
           }
          ],
          "histogram2dcontour": [
           {
            "colorbar": {
             "outlinewidth": 0,
             "ticks": ""
            },
            "colorscale": [
             [
              0,
              "#0d0887"
             ],
             [
              0.1111111111111111,
              "#46039f"
             ],
             [
              0.2222222222222222,
              "#7201a8"
             ],
             [
              0.3333333333333333,
              "#9c179e"
             ],
             [
              0.4444444444444444,
              "#bd3786"
             ],
             [
              0.5555555555555556,
              "#d8576b"
             ],
             [
              0.6666666666666666,
              "#ed7953"
             ],
             [
              0.7777777777777778,
              "#fb9f3a"
             ],
             [
              0.8888888888888888,
              "#fdca26"
             ],
             [
              1,
              "#f0f921"
             ]
            ],
            "type": "histogram2dcontour"
           }
          ],
          "mesh3d": [
           {
            "colorbar": {
             "outlinewidth": 0,
             "ticks": ""
            },
            "type": "mesh3d"
           }
          ],
          "parcoords": [
           {
            "line": {
             "colorbar": {
              "outlinewidth": 0,
              "ticks": ""
             }
            },
            "type": "parcoords"
           }
          ],
          "pie": [
           {
            "automargin": true,
            "type": "pie"
           }
          ],
          "scatter": [
           {
            "marker": {
             "colorbar": {
              "outlinewidth": 0,
              "ticks": ""
             }
            },
            "type": "scatter"
           }
          ],
          "scatter3d": [
           {
            "line": {
             "colorbar": {
              "outlinewidth": 0,
              "ticks": ""
             }
            },
            "marker": {
             "colorbar": {
              "outlinewidth": 0,
              "ticks": ""
             }
            },
            "type": "scatter3d"
           }
          ],
          "scattercarpet": [
           {
            "marker": {
             "colorbar": {
              "outlinewidth": 0,
              "ticks": ""
             }
            },
            "type": "scattercarpet"
           }
          ],
          "scattergeo": [
           {
            "marker": {
             "colorbar": {
              "outlinewidth": 0,
              "ticks": ""
             }
            },
            "type": "scattergeo"
           }
          ],
          "scattergl": [
           {
            "marker": {
             "colorbar": {
              "outlinewidth": 0,
              "ticks": ""
             }
            },
            "type": "scattergl"
           }
          ],
          "scattermapbox": [
           {
            "marker": {
             "colorbar": {
              "outlinewidth": 0,
              "ticks": ""
             }
            },
            "type": "scattermapbox"
           }
          ],
          "scatterpolar": [
           {
            "marker": {
             "colorbar": {
              "outlinewidth": 0,
              "ticks": ""
             }
            },
            "type": "scatterpolar"
           }
          ],
          "scatterpolargl": [
           {
            "marker": {
             "colorbar": {
              "outlinewidth": 0,
              "ticks": ""
             }
            },
            "type": "scatterpolargl"
           }
          ],
          "scatterternary": [
           {
            "marker": {
             "colorbar": {
              "outlinewidth": 0,
              "ticks": ""
             }
            },
            "type": "scatterternary"
           }
          ],
          "surface": [
           {
            "colorbar": {
             "outlinewidth": 0,
             "ticks": ""
            },
            "colorscale": [
             [
              0,
              "#0d0887"
             ],
             [
              0.1111111111111111,
              "#46039f"
             ],
             [
              0.2222222222222222,
              "#7201a8"
             ],
             [
              0.3333333333333333,
              "#9c179e"
             ],
             [
              0.4444444444444444,
              "#bd3786"
             ],
             [
              0.5555555555555556,
              "#d8576b"
             ],
             [
              0.6666666666666666,
              "#ed7953"
             ],
             [
              0.7777777777777778,
              "#fb9f3a"
             ],
             [
              0.8888888888888888,
              "#fdca26"
             ],
             [
              1,
              "#f0f921"
             ]
            ],
            "type": "surface"
           }
          ],
          "table": [
           {
            "cells": {
             "fill": {
              "color": "#EBF0F8"
             },
             "line": {
              "color": "white"
             }
            },
            "header": {
             "fill": {
              "color": "#C8D4E3"
             },
             "line": {
              "color": "white"
             }
            },
            "type": "table"
           }
          ]
         },
         "layout": {
          "annotationdefaults": {
           "arrowcolor": "#2a3f5f",
           "arrowhead": 0,
           "arrowwidth": 1
          },
          "coloraxis": {
           "colorbar": {
            "outlinewidth": 0,
            "ticks": ""
           }
          },
          "colorscale": {
           "diverging": [
            [
             0,
             "#8e0152"
            ],
            [
             0.1,
             "#c51b7d"
            ],
            [
             0.2,
             "#de77ae"
            ],
            [
             0.3,
             "#f1b6da"
            ],
            [
             0.4,
             "#fde0ef"
            ],
            [
             0.5,
             "#f7f7f7"
            ],
            [
             0.6,
             "#e6f5d0"
            ],
            [
             0.7,
             "#b8e186"
            ],
            [
             0.8,
             "#7fbc41"
            ],
            [
             0.9,
             "#4d9221"
            ],
            [
             1,
             "#276419"
            ]
           ],
           "sequential": [
            [
             0,
             "#0d0887"
            ],
            [
             0.1111111111111111,
             "#46039f"
            ],
            [
             0.2222222222222222,
             "#7201a8"
            ],
            [
             0.3333333333333333,
             "#9c179e"
            ],
            [
             0.4444444444444444,
             "#bd3786"
            ],
            [
             0.5555555555555556,
             "#d8576b"
            ],
            [
             0.6666666666666666,
             "#ed7953"
            ],
            [
             0.7777777777777778,
             "#fb9f3a"
            ],
            [
             0.8888888888888888,
             "#fdca26"
            ],
            [
             1,
             "#f0f921"
            ]
           ],
           "sequentialminus": [
            [
             0,
             "#0d0887"
            ],
            [
             0.1111111111111111,
             "#46039f"
            ],
            [
             0.2222222222222222,
             "#7201a8"
            ],
            [
             0.3333333333333333,
             "#9c179e"
            ],
            [
             0.4444444444444444,
             "#bd3786"
            ],
            [
             0.5555555555555556,
             "#d8576b"
            ],
            [
             0.6666666666666666,
             "#ed7953"
            ],
            [
             0.7777777777777778,
             "#fb9f3a"
            ],
            [
             0.8888888888888888,
             "#fdca26"
            ],
            [
             1,
             "#f0f921"
            ]
           ]
          },
          "colorway": [
           "#636efa",
           "#EF553B",
           "#00cc96",
           "#ab63fa",
           "#FFA15A",
           "#19d3f3",
           "#FF6692",
           "#B6E880",
           "#FF97FF",
           "#FECB52"
          ],
          "font": {
           "color": "#2a3f5f"
          },
          "geo": {
           "bgcolor": "white",
           "lakecolor": "white",
           "landcolor": "#E5ECF6",
           "showlakes": true,
           "showland": true,
           "subunitcolor": "white"
          },
          "hoverlabel": {
           "align": "left"
          },
          "hovermode": "closest",
          "mapbox": {
           "style": "light"
          },
          "paper_bgcolor": "white",
          "plot_bgcolor": "#E5ECF6",
          "polar": {
           "angularaxis": {
            "gridcolor": "white",
            "linecolor": "white",
            "ticks": ""
           },
           "bgcolor": "#E5ECF6",
           "radialaxis": {
            "gridcolor": "white",
            "linecolor": "white",
            "ticks": ""
           }
          },
          "scene": {
           "xaxis": {
            "backgroundcolor": "#E5ECF6",
            "gridcolor": "white",
            "gridwidth": 2,
            "linecolor": "white",
            "showbackground": true,
            "ticks": "",
            "zerolinecolor": "white"
           },
           "yaxis": {
            "backgroundcolor": "#E5ECF6",
            "gridcolor": "white",
            "gridwidth": 2,
            "linecolor": "white",
            "showbackground": true,
            "ticks": "",
            "zerolinecolor": "white"
           },
           "zaxis": {
            "backgroundcolor": "#E5ECF6",
            "gridcolor": "white",
            "gridwidth": 2,
            "linecolor": "white",
            "showbackground": true,
            "ticks": "",
            "zerolinecolor": "white"
           }
          },
          "shapedefaults": {
           "line": {
            "color": "#2a3f5f"
           }
          },
          "ternary": {
           "aaxis": {
            "gridcolor": "white",
            "linecolor": "white",
            "ticks": ""
           },
           "baxis": {
            "gridcolor": "white",
            "linecolor": "white",
            "ticks": ""
           },
           "bgcolor": "#E5ECF6",
           "caxis": {
            "gridcolor": "white",
            "linecolor": "white",
            "ticks": ""
           }
          },
          "title": {
           "x": 0.05
          },
          "xaxis": {
           "automargin": true,
           "gridcolor": "white",
           "linecolor": "white",
           "ticks": "",
           "title": {
            "standoff": 15
           },
           "zerolinecolor": "white",
           "zerolinewidth": 2
          },
          "yaxis": {
           "automargin": true,
           "gridcolor": "white",
           "linecolor": "white",
           "ticks": "",
           "title": {
            "standoff": 15
           },
           "zerolinecolor": "white",
           "zerolinewidth": 2
          }
         }
        },
        "title": {
         "text": "Countries with confirmed"
        }
       }
      },
      "text/html": [
       "<div>                            <div id=\"dc5d9f26-4f71-427a-9bf0-a619906c2d70\" class=\"plotly-graph-div\" style=\"height:525px; width:100%;\"></div>            <script type=\"text/javascript\">                require([\"plotly\"], function(Plotly) {                    window.PLOTLYENV=window.PLOTLYENV || {};                                    if (document.getElementById(\"dc5d9f26-4f71-427a-9bf0-a619906c2d70\")) {                    Plotly.newPlot(                        \"dc5d9f26-4f71-427a-9bf0-a619906c2d70\",                        [{\"coloraxis\": \"coloraxis\", \"geo\": \"geo\", \"hovertemplate\": \"<b>%{hovertext}</b><br><br>location=%{location}<br>confirmed=%{z}<extra></extra>\", \"hovertext\": [\"United States\", \"India\", \"Brazil\", \"France\", \"Russia\", \"Spain\", \"Argentina\", \"United Kingdom\", \"Colombia\", \"Mexico\", \"Italy\", \"Peru\", \"South Africa\", \"Iran\", \"Germany\", \"Poland\", \"Chile\", \"Belgium\", \"Iraq\", \"Ukraine\", \"Indonesia\", \"Bangladesh\", \"Czech Republic\", \"Netherlands\", \"Philippines\", \"Turkey\", \"Saudi Arabia\", \"Pakistan\", \"Israel\", \"Romania\", \"Canada\", \"Morocco\", \"Switzerland\", \"Nepal\", \"Portugal\", \"Ecuador\", \"Kazakhstan\", \"Austria\", \"Sweden\", \"Bolivia\", \"United Arab Emirates\", \"Panama\", \"Qatar\", \"Kuwait\", \"Dominican Republic\", \"Oman\", \"Costa Rica\", \"Hungary\", \"Guatemala\", \"Jordan\", \"Egypt\", \"Japan\", \"Armenia\", \"Belarus\", \"Honduras\", \"Ethiopia\", \"Venezuela\", \"Lebanon\", \"China\", \"Bahrain\", \"Moldova\", \"Slovakia\", \"Bulgaria\", \"Puerto Rico\", \"Tunisia\", \"Palestine\", \"Uzbekistan\", \"Libya\", \"Paraguay\", \"Croatia\", \"Azerbaijan\", \"Ireland\", \"Nigeria\", \"Kyrgyzstan\", \"Serbia\", \"Kenya\", \"Bosnia and Herzegovina\", \"Algeria\", \"Myanmar\", \"Georgia\", \"Singapore\", \"Greece\", \"Denmark\", \"Ghana\", \"Slovenia\", \"Afghanistan\", \"Malaysia\", \"Macedonia\", \"El Salvador\", \"Australia\", \"South Korea\", \"Lithuania\", \"Albania\", \"Kosovo\", \"Norway\", \"Montenegro\", \"Luxembourg\", \"Cameroon\", \"Cote d'Ivoire\", \"Finland\", \"Madagascar\", \"Zambia\", \"Senegal\", \"Uganda\", \"Sudan\", \"Sri Lanka\", \"Mozambique\", \"Namibia\", \"Guinea\", \"Angola\", \"Maldives\", \"Democratic Republic of Congo\", \"Tajikistan\", \"French Polynesia\", \"Jamaica\", \"Cape Verde\", \"Haiti\", \"Gabon\", \"Zimbabwe\", \"Latvia\", \"Botswana\", \"Mauritania\", \"Cuba\", \"Malta\", \"Bahamas\", \"Syria\", \"Estonia\", \"Swaziland\", \"Cyprus\", \"Malawi\", \"Trinidad and Tobago\", \"Djibouti\", \"Nicaragua\", \"Andorra\", \"Congo\", \"Suriname\", \"Guam\", \"Rwanda\", \"Equatorial Guinea\", \"Iceland\", \"Central African Republic\", \"Aruba\", \"Guyana\", \"Somalia\", \"Belize\", \"Thailand\", \"Gambia\", \"Mali\", \"Uruguay\", \"South Sudan\", \"Benin\", \"Burkina Faso\", \"Togo\", \"Guinea-Bissau\", \"Sierra Leone\", \"Yemen\", \"Lesotho\", \"New Zealand\", \"Chad\", \"Liberia\", \"United States Virgin Islands\", \"Niger\", \"Vietnam\", \"Curacao\", \"San Marino\", \"Sao Tome and Principe\", \"Sint Maarten (Dutch part)\", \"Gibraltar\", \"Liechtenstein\", \"Western Sahara\", \"Turks and Caicos Islands\", \"International\", \"Jersey\", \"Burundi\", \"Papua New Guinea\", \"Taiwan\", \"Comoros\", \"Tanzania\", \"Faeroe Islands\", \"Eritrea\", \"Monaco\", \"Mauritius\", \"Mongolia\", \"Bhutan\", \"Isle of Man\", \"Cambodia\", \"Guernsey\", \"Cayman Islands\", \"Barbados\", \"Bermuda\", \"Seychelles\", \"Bonaire Sint Eustatius and Saba\", \"Brunei\", \"Antigua and Barbuda\", \"Saint Lucia\", \"Northern Mariana Islands\", \"Saint Vincent and the Grenadines\", \"British Virgin Islands\", \"Dominica\", \"Fiji\", \"Grenada\", \"Timor\", \"New Caledonia\", \"Vatican\", \"Laos\", \"Saint Kitts and Nevis\", \"Greenland\", \"Solomon Islands\", \"Montserrat\", \"Falkland Islands\", \"Anguilla\", \"Wallis and Futuna\", \"Marshall Islands\", \"Hong Kong\"], \"locationmode\": \"country names\", \"locations\": [\"United States\", \"India\", \"Brazil\", \"France\", \"Russia\", \"Spain\", \"Argentina\", \"United Kingdom\", \"Colombia\", \"Mexico\", \"Italy\", \"Peru\", \"South Africa\", \"Iran\", \"Germany\", \"Poland\", \"Chile\", \"Belgium\", \"Iraq\", \"Ukraine\", \"Indonesia\", \"Bangladesh\", \"Czech Republic\", \"Netherlands\", \"Philippines\", \"Turkey\", \"Saudi Arabia\", \"Pakistan\", \"Israel\", \"Romania\", \"Canada\", \"Morocco\", \"Switzerland\", \"Nepal\", \"Portugal\", \"Ecuador\", \"Kazakhstan\", \"Austria\", \"Sweden\", \"Bolivia\", \"United Arab Emirates\", \"Panama\", \"Qatar\", \"Kuwait\", \"Dominican Republic\", \"Oman\", \"Costa Rica\", \"Hungary\", \"Guatemala\", \"Jordan\", \"Egypt\", \"Japan\", \"Armenia\", \"Belarus\", \"Honduras\", \"Ethiopia\", \"Venezuela\", \"Lebanon\", \"China\", \"Bahrain\", \"Moldova\", \"Slovakia\", \"Bulgaria\", \"Puerto Rico\", \"Tunisia\", \"Palestine\", \"Uzbekistan\", \"Libya\", \"Paraguay\", \"Croatia\", \"Azerbaijan\", \"Ireland\", \"Nigeria\", \"Kyrgyzstan\", \"Serbia\", \"Kenya\", \"Bosnia and Herzegovina\", \"Algeria\", \"Myanmar\", \"Georgia\", \"Singapore\", \"Greece\", \"Denmark\", \"Ghana\", \"Slovenia\", \"Afghanistan\", \"Malaysia\", \"Macedonia\", \"El Salvador\", \"Australia\", \"South Korea\", \"Lithuania\", \"Albania\", \"Kosovo\", \"Norway\", \"Montenegro\", \"Luxembourg\", \"Cameroon\", \"Cote d'Ivoire\", \"Finland\", \"Madagascar\", \"Zambia\", \"Senegal\", \"Uganda\", \"Sudan\", \"Sri Lanka\", \"Mozambique\", \"Namibia\", \"Guinea\", \"Angola\", \"Maldives\", \"Democratic Republic of Congo\", \"Tajikistan\", \"French Polynesia\", \"Jamaica\", \"Cape Verde\", \"Haiti\", \"Gabon\", \"Zimbabwe\", \"Latvia\", \"Botswana\", \"Mauritania\", \"Cuba\", \"Malta\", \"Bahamas\", \"Syria\", \"Estonia\", \"Swaziland\", \"Cyprus\", \"Malawi\", \"Trinidad and Tobago\", \"Djibouti\", \"Nicaragua\", \"Andorra\", \"Congo\", \"Suriname\", \"Guam\", \"Rwanda\", \"Equatorial Guinea\", \"Iceland\", \"Central African Republic\", \"Aruba\", \"Guyana\", \"Somalia\", \"Belize\", \"Thailand\", \"Gambia\", \"Mali\", \"Uruguay\", \"South Sudan\", \"Benin\", \"Burkina Faso\", \"Togo\", \"Guinea-Bissau\", \"Sierra Leone\", \"Yemen\", \"Lesotho\", \"New Zealand\", \"Chad\", \"Liberia\", \"United States Virgin Islands\", \"Niger\", \"Vietnam\", \"Curacao\", \"San Marino\", \"Sao Tome and Principe\", \"Sint Maarten (Dutch part)\", \"Gibraltar\", \"Liechtenstein\", \"Western Sahara\", \"Turks and Caicos Islands\", \"International\", \"Jersey\", \"Burundi\", \"Papua New Guinea\", \"Taiwan\", \"Comoros\", \"Tanzania\", \"Faeroe Islands\", \"Eritrea\", \"Monaco\", \"Mauritius\", \"Mongolia\", \"Bhutan\", \"Isle of Man\", \"Cambodia\", \"Guernsey\", \"Cayman Islands\", \"Barbados\", \"Bermuda\", \"Seychelles\", \"Bonaire Sint Eustatius and Saba\", \"Brunei\", \"Antigua and Barbuda\", \"Saint Lucia\", \"Northern Mariana Islands\", \"Saint Vincent and the Grenadines\", \"British Virgin Islands\", \"Dominica\", \"Fiji\", \"Grenada\", \"Timor\", \"New Caledonia\", \"Vatican\", \"Laos\", \"Saint Kitts and Nevis\", \"Greenland\", \"Solomon Islands\", \"Montserrat\", \"Falkland Islands\", \"Anguilla\", \"Wallis and Futuna\", \"Marshall Islands\", \"Hong Kong\"], \"name\": \"\", \"type\": \"choropleth\", \"z\": [9971651.0, 8553657.0, 5590025.0, 1787324.0, 1774334.0, 1328832.0, 1242169.0, 1192013.0, 1143887.0, 967825.0, 935104.0, 922333.0, 737278.0, 682486.0, 671868.0, 546425.0, 521558.0, 499271.0, 498549.0, 460331.0, 437716.0, 420238.0, 414828.0, 409573.0, 396395.0, 394255.0, 350592.0, 344839.0, 319562.0, 303751.0, 264113.0, 256781.0, 211160.0, 194453.0, 179324.0, 174907.0, 155876.0, 152508.0, 146461.0, 142475.0, 142143.0, 139527.0, 134203.0, 131743.0, 130182.0, 118140.0, 116363.0, 114778.0, 111262.0, 109321.0, 109201.0, 108084.0, 107466.0, 106279.0, 100508.0, 99675.0, 94883.0, 94236.0, 91560.0, 83456.0, 82346.0, 75495.0, 75160.0, 72065.0, 71119.0, 70161.0, 68788.0, 68117.0, 67589.0, 67247.0, 65411.0, 65394.0, 64090.0, 63390.0, 62747.0, 62488.0, 62423.0, 62051.0, 61377.0, 60680.0, 58056.0, 56698.0, 55121.0, 49202.0, 45161.0, 42239.0, 40209.0, 39760.0, 35145.0, 27658.0, 27553.0, 24699.0, 24206.0, 24155.0, 23225.0, 22805.0, 22481.0, 22421.0, 20832.0, 17797.0, 17223.0, 16954.0, 15708.0, 14403.0, 14090.0, 13929.0, 13768.0, 13211.0, 12426.0, 12335.0, 11986.0, 11607.0, 11336.0, 9995.0, 9506.0, 9369.0, 9127.0, 9022.0, 8531.0, 8095.0, 7835.0, 7806.0, 7297.0, 7039.0, 6947.0, 6215.0, 6125.0, 6003.0, 5987.0, 5951.0, 5849.0, 5608.0, 5591.0, 5383.0, 5379.0, 5239.0, 5233.0, 5222.0, 5092.0, 5078.0, 4879.0, 4600.0, 4514.0, 4229.0, 4176.0, 3840.0, 3684.0, 3676.0, 3514.0, 2955.0, 2745.0, 2569.0, 2516.0, 2413.0, 2381.0, 2070.0, 1967.0, 1630.0, 1547.0, 1442.0, 1405.0, 1243.0, 1213.0, 1097.0, 1043.0, 962.0, 896.0, 793.0, 788.0, 766.0, 707.0, 696.0, 643.0, 614.0, 597.0, 578.0, 563.0, 509.0, 497.0, 491.0, 486.0, 452.0, 368.0, 359.0, 357.0, 297.0, 279.0, 250.0, 242.0, 209.0, 158.0, 154.0, 148.0, 131.0, 131.0, 100.0, 76.0, 72.0, 42.0, 34.0, 32.0, 30.0, 29.0, 26.0, 24.0, 19.0, 17.0, 13.0, 13.0, 13.0, 3.0, 1.0, 1.0, 0.0]}],                        {\"coloraxis\": {\"cmax\": 9971651.0, \"cmin\": 0.0, \"colorbar\": {\"title\": {\"text\": \"confirmed\"}}, \"colorscale\": [[0.0, \"yellow\"], [0.16666666666666666, \"orange\"], [0.3333333333333333, \"red\"], [0.5, \"green\"], [0.6666666666666666, \"blue\"], [0.8333333333333334, \"purple\"], [1.0, \"black\"]]}, \"geo\": {\"center\": {}, \"domain\": {\"x\": [0.0, 1.0], \"y\": [0.0, 1.0]}}, \"legend\": {\"tracegroupgap\": 0}, \"template\": {\"data\": {\"bar\": [{\"error_x\": {\"color\": \"#2a3f5f\"}, \"error_y\": {\"color\": \"#2a3f5f\"}, \"marker\": {\"line\": {\"color\": \"#E5ECF6\", \"width\": 0.5}}, \"type\": \"bar\"}], \"barpolar\": [{\"marker\": {\"line\": {\"color\": \"#E5ECF6\", \"width\": 0.5}}, \"type\": \"barpolar\"}], \"carpet\": [{\"aaxis\": {\"endlinecolor\": \"#2a3f5f\", \"gridcolor\": \"white\", \"linecolor\": \"white\", \"minorgridcolor\": \"white\", \"startlinecolor\": \"#2a3f5f\"}, \"baxis\": {\"endlinecolor\": \"#2a3f5f\", \"gridcolor\": \"white\", \"linecolor\": \"white\", \"minorgridcolor\": \"white\", \"startlinecolor\": \"#2a3f5f\"}, \"type\": \"carpet\"}], \"choropleth\": [{\"colorbar\": {\"outlinewidth\": 0, \"ticks\": \"\"}, \"type\": \"choropleth\"}], \"contour\": [{\"colorbar\": {\"outlinewidth\": 0, \"ticks\": \"\"}, \"colorscale\": [[0.0, \"#0d0887\"], [0.1111111111111111, \"#46039f\"], [0.2222222222222222, \"#7201a8\"], [0.3333333333333333, \"#9c179e\"], [0.4444444444444444, \"#bd3786\"], [0.5555555555555556, \"#d8576b\"], [0.6666666666666666, \"#ed7953\"], [0.7777777777777778, \"#fb9f3a\"], [0.8888888888888888, \"#fdca26\"], [1.0, \"#f0f921\"]], \"type\": \"contour\"}], \"contourcarpet\": [{\"colorbar\": {\"outlinewidth\": 0, \"ticks\": \"\"}, \"type\": \"contourcarpet\"}], \"heatmap\": [{\"colorbar\": {\"outlinewidth\": 0, \"ticks\": \"\"}, \"colorscale\": [[0.0, \"#0d0887\"], [0.1111111111111111, \"#46039f\"], [0.2222222222222222, \"#7201a8\"], [0.3333333333333333, \"#9c179e\"], [0.4444444444444444, \"#bd3786\"], [0.5555555555555556, \"#d8576b\"], [0.6666666666666666, \"#ed7953\"], [0.7777777777777778, \"#fb9f3a\"], [0.8888888888888888, \"#fdca26\"], [1.0, \"#f0f921\"]], \"type\": \"heatmap\"}], \"heatmapgl\": [{\"colorbar\": {\"outlinewidth\": 0, \"ticks\": \"\"}, \"colorscale\": [[0.0, \"#0d0887\"], [0.1111111111111111, \"#46039f\"], [0.2222222222222222, \"#7201a8\"], [0.3333333333333333, \"#9c179e\"], [0.4444444444444444, \"#bd3786\"], [0.5555555555555556, \"#d8576b\"], [0.6666666666666666, \"#ed7953\"], [0.7777777777777778, \"#fb9f3a\"], [0.8888888888888888, \"#fdca26\"], [1.0, \"#f0f921\"]], \"type\": \"heatmapgl\"}], \"histogram\": [{\"marker\": {\"colorbar\": {\"outlinewidth\": 0, \"ticks\": \"\"}}, \"type\": \"histogram\"}], \"histogram2d\": [{\"colorbar\": {\"outlinewidth\": 0, \"ticks\": \"\"}, \"colorscale\": [[0.0, \"#0d0887\"], [0.1111111111111111, \"#46039f\"], [0.2222222222222222, \"#7201a8\"], [0.3333333333333333, \"#9c179e\"], [0.4444444444444444, \"#bd3786\"], [0.5555555555555556, \"#d8576b\"], [0.6666666666666666, \"#ed7953\"], [0.7777777777777778, \"#fb9f3a\"], [0.8888888888888888, \"#fdca26\"], [1.0, \"#f0f921\"]], \"type\": \"histogram2d\"}], \"histogram2dcontour\": [{\"colorbar\": {\"outlinewidth\": 0, \"ticks\": \"\"}, \"colorscale\": [[0.0, \"#0d0887\"], [0.1111111111111111, \"#46039f\"], [0.2222222222222222, \"#7201a8\"], [0.3333333333333333, \"#9c179e\"], [0.4444444444444444, \"#bd3786\"], [0.5555555555555556, \"#d8576b\"], [0.6666666666666666, \"#ed7953\"], [0.7777777777777778, \"#fb9f3a\"], [0.8888888888888888, \"#fdca26\"], [1.0, \"#f0f921\"]], \"type\": \"histogram2dcontour\"}], \"mesh3d\": [{\"colorbar\": {\"outlinewidth\": 0, \"ticks\": \"\"}, \"type\": \"mesh3d\"}], \"parcoords\": [{\"line\": {\"colorbar\": {\"outlinewidth\": 0, \"ticks\": \"\"}}, \"type\": \"parcoords\"}], \"pie\": [{\"automargin\": true, \"type\": \"pie\"}], \"scatter\": [{\"marker\": {\"colorbar\": {\"outlinewidth\": 0, \"ticks\": \"\"}}, \"type\": \"scatter\"}], \"scatter3d\": [{\"line\": {\"colorbar\": {\"outlinewidth\": 0, \"ticks\": \"\"}}, \"marker\": {\"colorbar\": {\"outlinewidth\": 0, \"ticks\": \"\"}}, \"type\": \"scatter3d\"}], \"scattercarpet\": [{\"marker\": {\"colorbar\": {\"outlinewidth\": 0, \"ticks\": \"\"}}, \"type\": \"scattercarpet\"}], \"scattergeo\": [{\"marker\": {\"colorbar\": {\"outlinewidth\": 0, \"ticks\": \"\"}}, \"type\": \"scattergeo\"}], \"scattergl\": [{\"marker\": {\"colorbar\": {\"outlinewidth\": 0, \"ticks\": \"\"}}, \"type\": \"scattergl\"}], \"scattermapbox\": [{\"marker\": {\"colorbar\": {\"outlinewidth\": 0, \"ticks\": \"\"}}, \"type\": \"scattermapbox\"}], \"scatterpolar\": [{\"marker\": {\"colorbar\": {\"outlinewidth\": 0, \"ticks\": \"\"}}, \"type\": \"scatterpolar\"}], \"scatterpolargl\": [{\"marker\": {\"colorbar\": {\"outlinewidth\": 0, \"ticks\": \"\"}}, \"type\": \"scatterpolargl\"}], \"scatterternary\": [{\"marker\": {\"colorbar\": {\"outlinewidth\": 0, \"ticks\": \"\"}}, \"type\": \"scatterternary\"}], \"surface\": [{\"colorbar\": {\"outlinewidth\": 0, \"ticks\": \"\"}, \"colorscale\": [[0.0, \"#0d0887\"], [0.1111111111111111, \"#46039f\"], [0.2222222222222222, \"#7201a8\"], [0.3333333333333333, \"#9c179e\"], [0.4444444444444444, \"#bd3786\"], [0.5555555555555556, \"#d8576b\"], [0.6666666666666666, \"#ed7953\"], [0.7777777777777778, \"#fb9f3a\"], [0.8888888888888888, \"#fdca26\"], [1.0, \"#f0f921\"]], \"type\": \"surface\"}], \"table\": [{\"cells\": {\"fill\": {\"color\": \"#EBF0F8\"}, \"line\": {\"color\": \"white\"}}, \"header\": {\"fill\": {\"color\": \"#C8D4E3\"}, \"line\": {\"color\": \"white\"}}, \"type\": \"table\"}]}, \"layout\": {\"annotationdefaults\": {\"arrowcolor\": \"#2a3f5f\", \"arrowhead\": 0, \"arrowwidth\": 1}, \"coloraxis\": {\"colorbar\": {\"outlinewidth\": 0, \"ticks\": \"\"}}, \"colorscale\": {\"diverging\": [[0, \"#8e0152\"], [0.1, \"#c51b7d\"], [0.2, \"#de77ae\"], [0.3, \"#f1b6da\"], [0.4, \"#fde0ef\"], [0.5, \"#f7f7f7\"], [0.6, \"#e6f5d0\"], [0.7, \"#b8e186\"], [0.8, \"#7fbc41\"], [0.9, \"#4d9221\"], [1, \"#276419\"]], \"sequential\": [[0.0, \"#0d0887\"], [0.1111111111111111, \"#46039f\"], [0.2222222222222222, \"#7201a8\"], [0.3333333333333333, \"#9c179e\"], [0.4444444444444444, \"#bd3786\"], [0.5555555555555556, \"#d8576b\"], [0.6666666666666666, \"#ed7953\"], [0.7777777777777778, \"#fb9f3a\"], [0.8888888888888888, \"#fdca26\"], [1.0, \"#f0f921\"]], \"sequentialminus\": [[0.0, \"#0d0887\"], [0.1111111111111111, \"#46039f\"], [0.2222222222222222, \"#7201a8\"], [0.3333333333333333, \"#9c179e\"], [0.4444444444444444, \"#bd3786\"], [0.5555555555555556, \"#d8576b\"], [0.6666666666666666, \"#ed7953\"], [0.7777777777777778, \"#fb9f3a\"], [0.8888888888888888, \"#fdca26\"], [1.0, \"#f0f921\"]]}, \"colorway\": [\"#636efa\", \"#EF553B\", \"#00cc96\", \"#ab63fa\", \"#FFA15A\", \"#19d3f3\", \"#FF6692\", \"#B6E880\", \"#FF97FF\", \"#FECB52\"], \"font\": {\"color\": \"#2a3f5f\"}, \"geo\": {\"bgcolor\": \"white\", \"lakecolor\": \"white\", \"landcolor\": \"#E5ECF6\", \"showlakes\": true, \"showland\": true, \"subunitcolor\": \"white\"}, \"hoverlabel\": {\"align\": \"left\"}, \"hovermode\": \"closest\", \"mapbox\": {\"style\": \"light\"}, \"paper_bgcolor\": \"white\", \"plot_bgcolor\": \"#E5ECF6\", \"polar\": {\"angularaxis\": {\"gridcolor\": \"white\", \"linecolor\": \"white\", \"ticks\": \"\"}, \"bgcolor\": \"#E5ECF6\", \"radialaxis\": {\"gridcolor\": \"white\", \"linecolor\": \"white\", \"ticks\": \"\"}}, \"scene\": {\"xaxis\": {\"backgroundcolor\": \"#E5ECF6\", \"gridcolor\": \"white\", \"gridwidth\": 2, \"linecolor\": \"white\", \"showbackground\": true, \"ticks\": \"\", \"zerolinecolor\": \"white\"}, \"yaxis\": {\"backgroundcolor\": \"#E5ECF6\", \"gridcolor\": \"white\", \"gridwidth\": 2, \"linecolor\": \"white\", \"showbackground\": true, \"ticks\": \"\", \"zerolinecolor\": \"white\"}, \"zaxis\": {\"backgroundcolor\": \"#E5ECF6\", \"gridcolor\": \"white\", \"gridwidth\": 2, \"linecolor\": \"white\", \"showbackground\": true, \"ticks\": \"\", \"zerolinecolor\": \"white\"}}, \"shapedefaults\": {\"line\": {\"color\": \"#2a3f5f\"}}, \"ternary\": {\"aaxis\": {\"gridcolor\": \"white\", \"linecolor\": \"white\", \"ticks\": \"\"}, \"baxis\": {\"gridcolor\": \"white\", \"linecolor\": \"white\", \"ticks\": \"\"}, \"bgcolor\": \"#E5ECF6\", \"caxis\": {\"gridcolor\": \"white\", \"linecolor\": \"white\", \"ticks\": \"\"}}, \"title\": {\"x\": 0.05}, \"xaxis\": {\"automargin\": true, \"gridcolor\": \"white\", \"linecolor\": \"white\", \"ticks\": \"\", \"title\": {\"standoff\": 15}, \"zerolinecolor\": \"white\", \"zerolinewidth\": 2}, \"yaxis\": {\"automargin\": true, \"gridcolor\": \"white\", \"linecolor\": \"white\", \"ticks\": \"\", \"title\": {\"standoff\": 15}, \"zerolinecolor\": \"white\", \"zerolinewidth\": 2}}}, \"title\": {\"text\": \"Countries with confirmed\"}},                        {\"responsive\": true}                    ).then(function(){\n",
       "                            \n",
       "var gd = document.getElementById('dc5d9f26-4f71-427a-9bf0-a619906c2d70');\n",
       "var x = new MutationObserver(function (mutations, observer) {{\n",
       "        var display = window.getComputedStyle(gd).display;\n",
       "        if (!display || display === 'none') {{\n",
       "            console.log([gd, 'removed!']);\n",
       "            Plotly.purge(gd);\n",
       "            observer.disconnect();\n",
       "        }}\n",
       "}});\n",
       "\n",
       "// Listen for the removal of the full notebook cells\n",
       "var notebookContainer = gd.closest('#notebook-container');\n",
       "if (notebookContainer) {{\n",
       "    x.observe(notebookContainer, {childList: true});\n",
       "}}\n",
       "\n",
       "// Listen for the clearing of the current output cell\n",
       "var outputEl = gd.closest('.output');\n",
       "if (outputEl) {{\n",
       "    x.observe(outputEl, {childList: true});\n",
       "}}\n",
       "\n",
       "                        })                };                });            </script>        </div>"
      ]
     },
     "metadata": {},
     "output_type": "display_data"
    }
   ],
   "source": [
    "plot_map(df_owid_covid, 'confirmed')"
   ]
  },
  {
   "cell_type": "code",
   "execution_count": null,
   "metadata": {},
   "outputs": [],
   "source": []
  },
  {
   "cell_type": "code",
   "execution_count": 61,
   "metadata": {},
   "outputs": [
    {
     "data": {
      "application/vnd.plotly.v1+json": {
       "config": {
        "plotlyServerURL": "https://plot.ly"
       },
       "data": [
        {
         "coloraxis": "coloraxis",
         "geo": "geo",
         "hovertemplate": "<b>%{hovertext}</b><br><br>location=%{location}<br>deaths=%{z}<extra></extra>",
         "hovertext": [
          "United States",
          "India",
          "Brazil",
          "France",
          "Russia",
          "Spain",
          "Argentina",
          "United Kingdom",
          "Colombia",
          "Mexico",
          "Italy",
          "Peru",
          "South Africa",
          "Iran",
          "Germany",
          "Poland",
          "Chile",
          "Belgium",
          "Iraq",
          "Ukraine",
          "Indonesia",
          "Bangladesh",
          "Czech Republic",
          "Netherlands",
          "Philippines",
          "Turkey",
          "Saudi Arabia",
          "Pakistan",
          "Israel",
          "Romania",
          "Canada",
          "Morocco",
          "Switzerland",
          "Nepal",
          "Portugal",
          "Ecuador",
          "Kazakhstan",
          "Austria",
          "Sweden",
          "Bolivia",
          "United Arab Emirates",
          "Panama",
          "Qatar",
          "Kuwait",
          "Dominican Republic",
          "Oman",
          "Costa Rica",
          "Hungary",
          "Guatemala",
          "Jordan",
          "Egypt",
          "Japan",
          "Armenia",
          "Belarus",
          "Honduras",
          "Ethiopia",
          "Venezuela",
          "Lebanon",
          "China",
          "Bahrain",
          "Moldova",
          "Slovakia",
          "Bulgaria",
          "Puerto Rico",
          "Tunisia",
          "Palestine",
          "Uzbekistan",
          "Libya",
          "Paraguay",
          "Croatia",
          "Azerbaijan",
          "Ireland",
          "Nigeria",
          "Kyrgyzstan",
          "Serbia",
          "Kenya",
          "Bosnia and Herzegovina",
          "Algeria",
          "Myanmar",
          "Georgia",
          "Singapore",
          "Greece",
          "Denmark",
          "Ghana",
          "Slovenia",
          "Afghanistan",
          "Malaysia",
          "Macedonia",
          "El Salvador",
          "Australia",
          "South Korea",
          "Lithuania",
          "Albania",
          "Kosovo",
          "Norway",
          "Montenegro",
          "Luxembourg",
          "Cameroon",
          "Cote d'Ivoire",
          "Finland",
          "Madagascar",
          "Zambia",
          "Senegal",
          "Uganda",
          "Sudan",
          "Sri Lanka",
          "Mozambique",
          "Namibia",
          "Guinea",
          "Angola",
          "Maldives",
          "Democratic Republic of Congo",
          "Tajikistan",
          "French Polynesia",
          "Jamaica",
          "Cape Verde",
          "Haiti",
          "Gabon",
          "Zimbabwe",
          "Latvia",
          "Botswana",
          "Mauritania",
          "Cuba",
          "Malta",
          "Bahamas",
          "Syria",
          "Estonia",
          "Swaziland",
          "Cyprus",
          "Malawi",
          "Trinidad and Tobago",
          "Djibouti",
          "Nicaragua",
          "Andorra",
          "Congo",
          "Suriname",
          "Guam",
          "Rwanda",
          "Equatorial Guinea",
          "Iceland",
          "Central African Republic",
          "Aruba",
          "Guyana",
          "Somalia",
          "Belize",
          "Thailand",
          "Gambia",
          "Mali",
          "Uruguay",
          "South Sudan",
          "Benin",
          "Burkina Faso",
          "Togo",
          "Guinea-Bissau",
          "Sierra Leone",
          "Yemen",
          "Lesotho",
          "New Zealand",
          "Chad",
          "Liberia",
          "United States Virgin Islands",
          "Niger",
          "Vietnam",
          "Curacao",
          "San Marino",
          "Sao Tome and Principe",
          "Sint Maarten (Dutch part)",
          "Gibraltar",
          "Liechtenstein",
          "Western Sahara",
          "Turks and Caicos Islands",
          "International",
          "Jersey",
          "Burundi",
          "Papua New Guinea",
          "Taiwan",
          "Comoros",
          "Tanzania",
          "Faeroe Islands",
          "Eritrea",
          "Monaco",
          "Mauritius",
          "Mongolia",
          "Bhutan",
          "Isle of Man",
          "Cambodia",
          "Guernsey",
          "Cayman Islands",
          "Barbados",
          "Bermuda",
          "Seychelles",
          "Bonaire Sint Eustatius and Saba",
          "Brunei",
          "Antigua and Barbuda",
          "Saint Lucia",
          "Northern Mariana Islands",
          "Saint Vincent and the Grenadines",
          "British Virgin Islands",
          "Dominica",
          "Fiji",
          "Grenada",
          "Timor",
          "New Caledonia",
          "Vatican",
          "Laos",
          "Saint Kitts and Nevis",
          "Greenland",
          "Solomon Islands",
          "Montserrat",
          "Falkland Islands",
          "Anguilla",
          "Wallis and Futuna",
          "Marshall Islands",
          "Hong Kong"
         ],
         "locationmode": "country names",
         "locations": [
          "United States",
          "India",
          "Brazil",
          "France",
          "Russia",
          "Spain",
          "Argentina",
          "United Kingdom",
          "Colombia",
          "Mexico",
          "Italy",
          "Peru",
          "South Africa",
          "Iran",
          "Germany",
          "Poland",
          "Chile",
          "Belgium",
          "Iraq",
          "Ukraine",
          "Indonesia",
          "Bangladesh",
          "Czech Republic",
          "Netherlands",
          "Philippines",
          "Turkey",
          "Saudi Arabia",
          "Pakistan",
          "Israel",
          "Romania",
          "Canada",
          "Morocco",
          "Switzerland",
          "Nepal",
          "Portugal",
          "Ecuador",
          "Kazakhstan",
          "Austria",
          "Sweden",
          "Bolivia",
          "United Arab Emirates",
          "Panama",
          "Qatar",
          "Kuwait",
          "Dominican Republic",
          "Oman",
          "Costa Rica",
          "Hungary",
          "Guatemala",
          "Jordan",
          "Egypt",
          "Japan",
          "Armenia",
          "Belarus",
          "Honduras",
          "Ethiopia",
          "Venezuela",
          "Lebanon",
          "China",
          "Bahrain",
          "Moldova",
          "Slovakia",
          "Bulgaria",
          "Puerto Rico",
          "Tunisia",
          "Palestine",
          "Uzbekistan",
          "Libya",
          "Paraguay",
          "Croatia",
          "Azerbaijan",
          "Ireland",
          "Nigeria",
          "Kyrgyzstan",
          "Serbia",
          "Kenya",
          "Bosnia and Herzegovina",
          "Algeria",
          "Myanmar",
          "Georgia",
          "Singapore",
          "Greece",
          "Denmark",
          "Ghana",
          "Slovenia",
          "Afghanistan",
          "Malaysia",
          "Macedonia",
          "El Salvador",
          "Australia",
          "South Korea",
          "Lithuania",
          "Albania",
          "Kosovo",
          "Norway",
          "Montenegro",
          "Luxembourg",
          "Cameroon",
          "Cote d'Ivoire",
          "Finland",
          "Madagascar",
          "Zambia",
          "Senegal",
          "Uganda",
          "Sudan",
          "Sri Lanka",
          "Mozambique",
          "Namibia",
          "Guinea",
          "Angola",
          "Maldives",
          "Democratic Republic of Congo",
          "Tajikistan",
          "French Polynesia",
          "Jamaica",
          "Cape Verde",
          "Haiti",
          "Gabon",
          "Zimbabwe",
          "Latvia",
          "Botswana",
          "Mauritania",
          "Cuba",
          "Malta",
          "Bahamas",
          "Syria",
          "Estonia",
          "Swaziland",
          "Cyprus",
          "Malawi",
          "Trinidad and Tobago",
          "Djibouti",
          "Nicaragua",
          "Andorra",
          "Congo",
          "Suriname",
          "Guam",
          "Rwanda",
          "Equatorial Guinea",
          "Iceland",
          "Central African Republic",
          "Aruba",
          "Guyana",
          "Somalia",
          "Belize",
          "Thailand",
          "Gambia",
          "Mali",
          "Uruguay",
          "South Sudan",
          "Benin",
          "Burkina Faso",
          "Togo",
          "Guinea-Bissau",
          "Sierra Leone",
          "Yemen",
          "Lesotho",
          "New Zealand",
          "Chad",
          "Liberia",
          "United States Virgin Islands",
          "Niger",
          "Vietnam",
          "Curacao",
          "San Marino",
          "Sao Tome and Principe",
          "Sint Maarten (Dutch part)",
          "Gibraltar",
          "Liechtenstein",
          "Western Sahara",
          "Turks and Caicos Islands",
          "International",
          "Jersey",
          "Burundi",
          "Papua New Guinea",
          "Taiwan",
          "Comoros",
          "Tanzania",
          "Faeroe Islands",
          "Eritrea",
          "Monaco",
          "Mauritius",
          "Mongolia",
          "Bhutan",
          "Isle of Man",
          "Cambodia",
          "Guernsey",
          "Cayman Islands",
          "Barbados",
          "Bermuda",
          "Seychelles",
          "Bonaire Sint Eustatius and Saba",
          "Brunei",
          "Antigua and Barbuda",
          "Saint Lucia",
          "Northern Mariana Islands",
          "Saint Vincent and the Grenadines",
          "British Virgin Islands",
          "Dominica",
          "Fiji",
          "Grenada",
          "Timor",
          "New Caledonia",
          "Vatican",
          "Laos",
          "Saint Kitts and Nevis",
          "Greenland",
          "Solomon Islands",
          "Montserrat",
          "Falkland Islands",
          "Anguilla",
          "Wallis and Futuna",
          "Marshall Islands",
          "Hong Kong"
         ],
         "name": "",
         "type": "choropleth",
         "z": [
          237572,
          126611,
          161106,
          40439,
          30537,
          38833,
          33560,
          49044,
          32791,
          95027,
          41394,
          34879,
          19809,
          38291,
          11352,
          7872,
          14543,
          12898,
          11327,
          8450,
          14614,
          6067,
          4858,
          7994,
          7539,
          10887,
          5540,
          6977,
          2674,
          7879,
          10522,
          4272,
          2404,
          1108,
          2896,
          12830,
          2266,
          1335,
          6022,
          8795,
          514,
          2798,
          232,
          811,
          2265,
          1301,
          1464,
          2493,
          3821,
          1233,
          6368,
          1818,
          1580,
          1007,
          2751,
          1523,
          826,
          723,
          4739,
          329,
          1893,
          351,
          1665,
          872,
          1873,
          587,
          585,
          929,
          1490,
          794,
          840,
          1947,
          1154,
          1182,
          890,
          1111,
          1510,
          2048,
          1420,
          499,
          28,
          784,
          743,
          320,
          382,
          1565,
          286,
          1136,
          1014,
          907,
          480,
          207,
          559,
          755,
          285,
          337,
          185,
          433,
          126,
          362,
          249,
          349,
          326,
          132,
          1115,
          35,
          99,
          134,
          74,
          303,
          40,
          315,
          83,
          39,
          221,
          100,
          232,
          55,
          253,
          99,
          27,
          165,
          130,
          74,
          152,
          317,
          75,
          117,
          28,
          184,
          111,
          61,
          157,
          75,
          92,
          113,
          89,
          36,
          85,
          20,
          62,
          40,
          134,
          107,
          70,
          60,
          121,
          137,
          62,
          59,
          43,
          67,
          57,
          41,
          74,
          602,
          44,
          25,
          99,
          82,
          23,
          69,
          35,
          2,
          42,
          16,
          23,
          0,
          3,
          1,
          6,
          7,
          32,
          1,
          7,
          7,
          7,
          21,
          0,
          0,
          1,
          10,
          0,
          0,
          25,
          0,
          13,
          1,
          7,
          9,
          0,
          3,
          3,
          3,
          0,
          2,
          0,
          1,
          0,
          2,
          0,
          0,
          0,
          0,
          0,
          0,
          0,
          0,
          1,
          0,
          0,
          0,
          0,
          0
         ]
        }
       ],
       "layout": {
        "coloraxis": {
         "cmax": 237572,
         "cmin": 0,
         "colorbar": {
          "title": {
           "text": "deaths"
          }
         },
         "colorscale": [
          [
           0,
           "yellow"
          ],
          [
           0.16666666666666666,
           "orange"
          ],
          [
           0.3333333333333333,
           "red"
          ],
          [
           0.5,
           "green"
          ],
          [
           0.6666666666666666,
           "blue"
          ],
          [
           0.8333333333333334,
           "purple"
          ],
          [
           1,
           "black"
          ]
         ]
        },
        "geo": {
         "center": {},
         "domain": {
          "x": [
           0,
           1
          ],
          "y": [
           0,
           1
          ]
         }
        },
        "legend": {
         "tracegroupgap": 0
        },
        "template": {
         "data": {
          "bar": [
           {
            "error_x": {
             "color": "#2a3f5f"
            },
            "error_y": {
             "color": "#2a3f5f"
            },
            "marker": {
             "line": {
              "color": "#E5ECF6",
              "width": 0.5
             }
            },
            "type": "bar"
           }
          ],
          "barpolar": [
           {
            "marker": {
             "line": {
              "color": "#E5ECF6",
              "width": 0.5
             }
            },
            "type": "barpolar"
           }
          ],
          "carpet": [
           {
            "aaxis": {
             "endlinecolor": "#2a3f5f",
             "gridcolor": "white",
             "linecolor": "white",
             "minorgridcolor": "white",
             "startlinecolor": "#2a3f5f"
            },
            "baxis": {
             "endlinecolor": "#2a3f5f",
             "gridcolor": "white",
             "linecolor": "white",
             "minorgridcolor": "white",
             "startlinecolor": "#2a3f5f"
            },
            "type": "carpet"
           }
          ],
          "choropleth": [
           {
            "colorbar": {
             "outlinewidth": 0,
             "ticks": ""
            },
            "type": "choropleth"
           }
          ],
          "contour": [
           {
            "colorbar": {
             "outlinewidth": 0,
             "ticks": ""
            },
            "colorscale": [
             [
              0,
              "#0d0887"
             ],
             [
              0.1111111111111111,
              "#46039f"
             ],
             [
              0.2222222222222222,
              "#7201a8"
             ],
             [
              0.3333333333333333,
              "#9c179e"
             ],
             [
              0.4444444444444444,
              "#bd3786"
             ],
             [
              0.5555555555555556,
              "#d8576b"
             ],
             [
              0.6666666666666666,
              "#ed7953"
             ],
             [
              0.7777777777777778,
              "#fb9f3a"
             ],
             [
              0.8888888888888888,
              "#fdca26"
             ],
             [
              1,
              "#f0f921"
             ]
            ],
            "type": "contour"
           }
          ],
          "contourcarpet": [
           {
            "colorbar": {
             "outlinewidth": 0,
             "ticks": ""
            },
            "type": "contourcarpet"
           }
          ],
          "heatmap": [
           {
            "colorbar": {
             "outlinewidth": 0,
             "ticks": ""
            },
            "colorscale": [
             [
              0,
              "#0d0887"
             ],
             [
              0.1111111111111111,
              "#46039f"
             ],
             [
              0.2222222222222222,
              "#7201a8"
             ],
             [
              0.3333333333333333,
              "#9c179e"
             ],
             [
              0.4444444444444444,
              "#bd3786"
             ],
             [
              0.5555555555555556,
              "#d8576b"
             ],
             [
              0.6666666666666666,
              "#ed7953"
             ],
             [
              0.7777777777777778,
              "#fb9f3a"
             ],
             [
              0.8888888888888888,
              "#fdca26"
             ],
             [
              1,
              "#f0f921"
             ]
            ],
            "type": "heatmap"
           }
          ],
          "heatmapgl": [
           {
            "colorbar": {
             "outlinewidth": 0,
             "ticks": ""
            },
            "colorscale": [
             [
              0,
              "#0d0887"
             ],
             [
              0.1111111111111111,
              "#46039f"
             ],
             [
              0.2222222222222222,
              "#7201a8"
             ],
             [
              0.3333333333333333,
              "#9c179e"
             ],
             [
              0.4444444444444444,
              "#bd3786"
             ],
             [
              0.5555555555555556,
              "#d8576b"
             ],
             [
              0.6666666666666666,
              "#ed7953"
             ],
             [
              0.7777777777777778,
              "#fb9f3a"
             ],
             [
              0.8888888888888888,
              "#fdca26"
             ],
             [
              1,
              "#f0f921"
             ]
            ],
            "type": "heatmapgl"
           }
          ],
          "histogram": [
           {
            "marker": {
             "colorbar": {
              "outlinewidth": 0,
              "ticks": ""
             }
            },
            "type": "histogram"
           }
          ],
          "histogram2d": [
           {
            "colorbar": {
             "outlinewidth": 0,
             "ticks": ""
            },
            "colorscale": [
             [
              0,
              "#0d0887"
             ],
             [
              0.1111111111111111,
              "#46039f"
             ],
             [
              0.2222222222222222,
              "#7201a8"
             ],
             [
              0.3333333333333333,
              "#9c179e"
             ],
             [
              0.4444444444444444,
              "#bd3786"
             ],
             [
              0.5555555555555556,
              "#d8576b"
             ],
             [
              0.6666666666666666,
              "#ed7953"
             ],
             [
              0.7777777777777778,
              "#fb9f3a"
             ],
             [
              0.8888888888888888,
              "#fdca26"
             ],
             [
              1,
              "#f0f921"
             ]
            ],
            "type": "histogram2d"
           }
          ],
          "histogram2dcontour": [
           {
            "colorbar": {
             "outlinewidth": 0,
             "ticks": ""
            },
            "colorscale": [
             [
              0,
              "#0d0887"
             ],
             [
              0.1111111111111111,
              "#46039f"
             ],
             [
              0.2222222222222222,
              "#7201a8"
             ],
             [
              0.3333333333333333,
              "#9c179e"
             ],
             [
              0.4444444444444444,
              "#bd3786"
             ],
             [
              0.5555555555555556,
              "#d8576b"
             ],
             [
              0.6666666666666666,
              "#ed7953"
             ],
             [
              0.7777777777777778,
              "#fb9f3a"
             ],
             [
              0.8888888888888888,
              "#fdca26"
             ],
             [
              1,
              "#f0f921"
             ]
            ],
            "type": "histogram2dcontour"
           }
          ],
          "mesh3d": [
           {
            "colorbar": {
             "outlinewidth": 0,
             "ticks": ""
            },
            "type": "mesh3d"
           }
          ],
          "parcoords": [
           {
            "line": {
             "colorbar": {
              "outlinewidth": 0,
              "ticks": ""
             }
            },
            "type": "parcoords"
           }
          ],
          "pie": [
           {
            "automargin": true,
            "type": "pie"
           }
          ],
          "scatter": [
           {
            "marker": {
             "colorbar": {
              "outlinewidth": 0,
              "ticks": ""
             }
            },
            "type": "scatter"
           }
          ],
          "scatter3d": [
           {
            "line": {
             "colorbar": {
              "outlinewidth": 0,
              "ticks": ""
             }
            },
            "marker": {
             "colorbar": {
              "outlinewidth": 0,
              "ticks": ""
             }
            },
            "type": "scatter3d"
           }
          ],
          "scattercarpet": [
           {
            "marker": {
             "colorbar": {
              "outlinewidth": 0,
              "ticks": ""
             }
            },
            "type": "scattercarpet"
           }
          ],
          "scattergeo": [
           {
            "marker": {
             "colorbar": {
              "outlinewidth": 0,
              "ticks": ""
             }
            },
            "type": "scattergeo"
           }
          ],
          "scattergl": [
           {
            "marker": {
             "colorbar": {
              "outlinewidth": 0,
              "ticks": ""
             }
            },
            "type": "scattergl"
           }
          ],
          "scattermapbox": [
           {
            "marker": {
             "colorbar": {
              "outlinewidth": 0,
              "ticks": ""
             }
            },
            "type": "scattermapbox"
           }
          ],
          "scatterpolar": [
           {
            "marker": {
             "colorbar": {
              "outlinewidth": 0,
              "ticks": ""
             }
            },
            "type": "scatterpolar"
           }
          ],
          "scatterpolargl": [
           {
            "marker": {
             "colorbar": {
              "outlinewidth": 0,
              "ticks": ""
             }
            },
            "type": "scatterpolargl"
           }
          ],
          "scatterternary": [
           {
            "marker": {
             "colorbar": {
              "outlinewidth": 0,
              "ticks": ""
             }
            },
            "type": "scatterternary"
           }
          ],
          "surface": [
           {
            "colorbar": {
             "outlinewidth": 0,
             "ticks": ""
            },
            "colorscale": [
             [
              0,
              "#0d0887"
             ],
             [
              0.1111111111111111,
              "#46039f"
             ],
             [
              0.2222222222222222,
              "#7201a8"
             ],
             [
              0.3333333333333333,
              "#9c179e"
             ],
             [
              0.4444444444444444,
              "#bd3786"
             ],
             [
              0.5555555555555556,
              "#d8576b"
             ],
             [
              0.6666666666666666,
              "#ed7953"
             ],
             [
              0.7777777777777778,
              "#fb9f3a"
             ],
             [
              0.8888888888888888,
              "#fdca26"
             ],
             [
              1,
              "#f0f921"
             ]
            ],
            "type": "surface"
           }
          ],
          "table": [
           {
            "cells": {
             "fill": {
              "color": "#EBF0F8"
             },
             "line": {
              "color": "white"
             }
            },
            "header": {
             "fill": {
              "color": "#C8D4E3"
             },
             "line": {
              "color": "white"
             }
            },
            "type": "table"
           }
          ]
         },
         "layout": {
          "annotationdefaults": {
           "arrowcolor": "#2a3f5f",
           "arrowhead": 0,
           "arrowwidth": 1
          },
          "coloraxis": {
           "colorbar": {
            "outlinewidth": 0,
            "ticks": ""
           }
          },
          "colorscale": {
           "diverging": [
            [
             0,
             "#8e0152"
            ],
            [
             0.1,
             "#c51b7d"
            ],
            [
             0.2,
             "#de77ae"
            ],
            [
             0.3,
             "#f1b6da"
            ],
            [
             0.4,
             "#fde0ef"
            ],
            [
             0.5,
             "#f7f7f7"
            ],
            [
             0.6,
             "#e6f5d0"
            ],
            [
             0.7,
             "#b8e186"
            ],
            [
             0.8,
             "#7fbc41"
            ],
            [
             0.9,
             "#4d9221"
            ],
            [
             1,
             "#276419"
            ]
           ],
           "sequential": [
            [
             0,
             "#0d0887"
            ],
            [
             0.1111111111111111,
             "#46039f"
            ],
            [
             0.2222222222222222,
             "#7201a8"
            ],
            [
             0.3333333333333333,
             "#9c179e"
            ],
            [
             0.4444444444444444,
             "#bd3786"
            ],
            [
             0.5555555555555556,
             "#d8576b"
            ],
            [
             0.6666666666666666,
             "#ed7953"
            ],
            [
             0.7777777777777778,
             "#fb9f3a"
            ],
            [
             0.8888888888888888,
             "#fdca26"
            ],
            [
             1,
             "#f0f921"
            ]
           ],
           "sequentialminus": [
            [
             0,
             "#0d0887"
            ],
            [
             0.1111111111111111,
             "#46039f"
            ],
            [
             0.2222222222222222,
             "#7201a8"
            ],
            [
             0.3333333333333333,
             "#9c179e"
            ],
            [
             0.4444444444444444,
             "#bd3786"
            ],
            [
             0.5555555555555556,
             "#d8576b"
            ],
            [
             0.6666666666666666,
             "#ed7953"
            ],
            [
             0.7777777777777778,
             "#fb9f3a"
            ],
            [
             0.8888888888888888,
             "#fdca26"
            ],
            [
             1,
             "#f0f921"
            ]
           ]
          },
          "colorway": [
           "#636efa",
           "#EF553B",
           "#00cc96",
           "#ab63fa",
           "#FFA15A",
           "#19d3f3",
           "#FF6692",
           "#B6E880",
           "#FF97FF",
           "#FECB52"
          ],
          "font": {
           "color": "#2a3f5f"
          },
          "geo": {
           "bgcolor": "white",
           "lakecolor": "white",
           "landcolor": "#E5ECF6",
           "showlakes": true,
           "showland": true,
           "subunitcolor": "white"
          },
          "hoverlabel": {
           "align": "left"
          },
          "hovermode": "closest",
          "mapbox": {
           "style": "light"
          },
          "paper_bgcolor": "white",
          "plot_bgcolor": "#E5ECF6",
          "polar": {
           "angularaxis": {
            "gridcolor": "white",
            "linecolor": "white",
            "ticks": ""
           },
           "bgcolor": "#E5ECF6",
           "radialaxis": {
            "gridcolor": "white",
            "linecolor": "white",
            "ticks": ""
           }
          },
          "scene": {
           "xaxis": {
            "backgroundcolor": "#E5ECF6",
            "gridcolor": "white",
            "gridwidth": 2,
            "linecolor": "white",
            "showbackground": true,
            "ticks": "",
            "zerolinecolor": "white"
           },
           "yaxis": {
            "backgroundcolor": "#E5ECF6",
            "gridcolor": "white",
            "gridwidth": 2,
            "linecolor": "white",
            "showbackground": true,
            "ticks": "",
            "zerolinecolor": "white"
           },
           "zaxis": {
            "backgroundcolor": "#E5ECF6",
            "gridcolor": "white",
            "gridwidth": 2,
            "linecolor": "white",
            "showbackground": true,
            "ticks": "",
            "zerolinecolor": "white"
           }
          },
          "shapedefaults": {
           "line": {
            "color": "#2a3f5f"
           }
          },
          "ternary": {
           "aaxis": {
            "gridcolor": "white",
            "linecolor": "white",
            "ticks": ""
           },
           "baxis": {
            "gridcolor": "white",
            "linecolor": "white",
            "ticks": ""
           },
           "bgcolor": "#E5ECF6",
           "caxis": {
            "gridcolor": "white",
            "linecolor": "white",
            "ticks": ""
           }
          },
          "title": {
           "x": 0.05
          },
          "xaxis": {
           "automargin": true,
           "gridcolor": "white",
           "linecolor": "white",
           "ticks": "",
           "title": {
            "standoff": 15
           },
           "zerolinecolor": "white",
           "zerolinewidth": 2
          },
          "yaxis": {
           "automargin": true,
           "gridcolor": "white",
           "linecolor": "white",
           "ticks": "",
           "title": {
            "standoff": 15
           },
           "zerolinecolor": "white",
           "zerolinewidth": 2
          }
         }
        },
        "title": {
         "text": "Countries with deaths"
        }
       }
      },
      "text/html": [
       "<div>                            <div id=\"cb4e69f2-c82d-4778-ad2d-098a33e0ead3\" class=\"plotly-graph-div\" style=\"height:525px; width:100%;\"></div>            <script type=\"text/javascript\">                require([\"plotly\"], function(Plotly) {                    window.PLOTLYENV=window.PLOTLYENV || {};                                    if (document.getElementById(\"cb4e69f2-c82d-4778-ad2d-098a33e0ead3\")) {                    Plotly.newPlot(                        \"cb4e69f2-c82d-4778-ad2d-098a33e0ead3\",                        [{\"coloraxis\": \"coloraxis\", \"geo\": \"geo\", \"hovertemplate\": \"<b>%{hovertext}</b><br><br>location=%{location}<br>deaths=%{z}<extra></extra>\", \"hovertext\": [\"United States\", \"India\", \"Brazil\", \"France\", \"Russia\", \"Spain\", \"Argentina\", \"United Kingdom\", \"Colombia\", \"Mexico\", \"Italy\", \"Peru\", \"South Africa\", \"Iran\", \"Germany\", \"Poland\", \"Chile\", \"Belgium\", \"Iraq\", \"Ukraine\", \"Indonesia\", \"Bangladesh\", \"Czech Republic\", \"Netherlands\", \"Philippines\", \"Turkey\", \"Saudi Arabia\", \"Pakistan\", \"Israel\", \"Romania\", \"Canada\", \"Morocco\", \"Switzerland\", \"Nepal\", \"Portugal\", \"Ecuador\", \"Kazakhstan\", \"Austria\", \"Sweden\", \"Bolivia\", \"United Arab Emirates\", \"Panama\", \"Qatar\", \"Kuwait\", \"Dominican Republic\", \"Oman\", \"Costa Rica\", \"Hungary\", \"Guatemala\", \"Jordan\", \"Egypt\", \"Japan\", \"Armenia\", \"Belarus\", \"Honduras\", \"Ethiopia\", \"Venezuela\", \"Lebanon\", \"China\", \"Bahrain\", \"Moldova\", \"Slovakia\", \"Bulgaria\", \"Puerto Rico\", \"Tunisia\", \"Palestine\", \"Uzbekistan\", \"Libya\", \"Paraguay\", \"Croatia\", \"Azerbaijan\", \"Ireland\", \"Nigeria\", \"Kyrgyzstan\", \"Serbia\", \"Kenya\", \"Bosnia and Herzegovina\", \"Algeria\", \"Myanmar\", \"Georgia\", \"Singapore\", \"Greece\", \"Denmark\", \"Ghana\", \"Slovenia\", \"Afghanistan\", \"Malaysia\", \"Macedonia\", \"El Salvador\", \"Australia\", \"South Korea\", \"Lithuania\", \"Albania\", \"Kosovo\", \"Norway\", \"Montenegro\", \"Luxembourg\", \"Cameroon\", \"Cote d'Ivoire\", \"Finland\", \"Madagascar\", \"Zambia\", \"Senegal\", \"Uganda\", \"Sudan\", \"Sri Lanka\", \"Mozambique\", \"Namibia\", \"Guinea\", \"Angola\", \"Maldives\", \"Democratic Republic of Congo\", \"Tajikistan\", \"French Polynesia\", \"Jamaica\", \"Cape Verde\", \"Haiti\", \"Gabon\", \"Zimbabwe\", \"Latvia\", \"Botswana\", \"Mauritania\", \"Cuba\", \"Malta\", \"Bahamas\", \"Syria\", \"Estonia\", \"Swaziland\", \"Cyprus\", \"Malawi\", \"Trinidad and Tobago\", \"Djibouti\", \"Nicaragua\", \"Andorra\", \"Congo\", \"Suriname\", \"Guam\", \"Rwanda\", \"Equatorial Guinea\", \"Iceland\", \"Central African Republic\", \"Aruba\", \"Guyana\", \"Somalia\", \"Belize\", \"Thailand\", \"Gambia\", \"Mali\", \"Uruguay\", \"South Sudan\", \"Benin\", \"Burkina Faso\", \"Togo\", \"Guinea-Bissau\", \"Sierra Leone\", \"Yemen\", \"Lesotho\", \"New Zealand\", \"Chad\", \"Liberia\", \"United States Virgin Islands\", \"Niger\", \"Vietnam\", \"Curacao\", \"San Marino\", \"Sao Tome and Principe\", \"Sint Maarten (Dutch part)\", \"Gibraltar\", \"Liechtenstein\", \"Western Sahara\", \"Turks and Caicos Islands\", \"International\", \"Jersey\", \"Burundi\", \"Papua New Guinea\", \"Taiwan\", \"Comoros\", \"Tanzania\", \"Faeroe Islands\", \"Eritrea\", \"Monaco\", \"Mauritius\", \"Mongolia\", \"Bhutan\", \"Isle of Man\", \"Cambodia\", \"Guernsey\", \"Cayman Islands\", \"Barbados\", \"Bermuda\", \"Seychelles\", \"Bonaire Sint Eustatius and Saba\", \"Brunei\", \"Antigua and Barbuda\", \"Saint Lucia\", \"Northern Mariana Islands\", \"Saint Vincent and the Grenadines\", \"British Virgin Islands\", \"Dominica\", \"Fiji\", \"Grenada\", \"Timor\", \"New Caledonia\", \"Vatican\", \"Laos\", \"Saint Kitts and Nevis\", \"Greenland\", \"Solomon Islands\", \"Montserrat\", \"Falkland Islands\", \"Anguilla\", \"Wallis and Futuna\", \"Marshall Islands\", \"Hong Kong\"], \"locationmode\": \"country names\", \"locations\": [\"United States\", \"India\", \"Brazil\", \"France\", \"Russia\", \"Spain\", \"Argentina\", \"United Kingdom\", \"Colombia\", \"Mexico\", \"Italy\", \"Peru\", \"South Africa\", \"Iran\", \"Germany\", \"Poland\", \"Chile\", \"Belgium\", \"Iraq\", \"Ukraine\", \"Indonesia\", \"Bangladesh\", \"Czech Republic\", \"Netherlands\", \"Philippines\", \"Turkey\", \"Saudi Arabia\", \"Pakistan\", \"Israel\", \"Romania\", \"Canada\", \"Morocco\", \"Switzerland\", \"Nepal\", \"Portugal\", \"Ecuador\", \"Kazakhstan\", \"Austria\", \"Sweden\", \"Bolivia\", \"United Arab Emirates\", \"Panama\", \"Qatar\", \"Kuwait\", \"Dominican Republic\", \"Oman\", \"Costa Rica\", \"Hungary\", \"Guatemala\", \"Jordan\", \"Egypt\", \"Japan\", \"Armenia\", \"Belarus\", \"Honduras\", \"Ethiopia\", \"Venezuela\", \"Lebanon\", \"China\", \"Bahrain\", \"Moldova\", \"Slovakia\", \"Bulgaria\", \"Puerto Rico\", \"Tunisia\", \"Palestine\", \"Uzbekistan\", \"Libya\", \"Paraguay\", \"Croatia\", \"Azerbaijan\", \"Ireland\", \"Nigeria\", \"Kyrgyzstan\", \"Serbia\", \"Kenya\", \"Bosnia and Herzegovina\", \"Algeria\", \"Myanmar\", \"Georgia\", \"Singapore\", \"Greece\", \"Denmark\", \"Ghana\", \"Slovenia\", \"Afghanistan\", \"Malaysia\", \"Macedonia\", \"El Salvador\", \"Australia\", \"South Korea\", \"Lithuania\", \"Albania\", \"Kosovo\", \"Norway\", \"Montenegro\", \"Luxembourg\", \"Cameroon\", \"Cote d'Ivoire\", \"Finland\", \"Madagascar\", \"Zambia\", \"Senegal\", \"Uganda\", \"Sudan\", \"Sri Lanka\", \"Mozambique\", \"Namibia\", \"Guinea\", \"Angola\", \"Maldives\", \"Democratic Republic of Congo\", \"Tajikistan\", \"French Polynesia\", \"Jamaica\", \"Cape Verde\", \"Haiti\", \"Gabon\", \"Zimbabwe\", \"Latvia\", \"Botswana\", \"Mauritania\", \"Cuba\", \"Malta\", \"Bahamas\", \"Syria\", \"Estonia\", \"Swaziland\", \"Cyprus\", \"Malawi\", \"Trinidad and Tobago\", \"Djibouti\", \"Nicaragua\", \"Andorra\", \"Congo\", \"Suriname\", \"Guam\", \"Rwanda\", \"Equatorial Guinea\", \"Iceland\", \"Central African Republic\", \"Aruba\", \"Guyana\", \"Somalia\", \"Belize\", \"Thailand\", \"Gambia\", \"Mali\", \"Uruguay\", \"South Sudan\", \"Benin\", \"Burkina Faso\", \"Togo\", \"Guinea-Bissau\", \"Sierra Leone\", \"Yemen\", \"Lesotho\", \"New Zealand\", \"Chad\", \"Liberia\", \"United States Virgin Islands\", \"Niger\", \"Vietnam\", \"Curacao\", \"San Marino\", \"Sao Tome and Principe\", \"Sint Maarten (Dutch part)\", \"Gibraltar\", \"Liechtenstein\", \"Western Sahara\", \"Turks and Caicos Islands\", \"International\", \"Jersey\", \"Burundi\", \"Papua New Guinea\", \"Taiwan\", \"Comoros\", \"Tanzania\", \"Faeroe Islands\", \"Eritrea\", \"Monaco\", \"Mauritius\", \"Mongolia\", \"Bhutan\", \"Isle of Man\", \"Cambodia\", \"Guernsey\", \"Cayman Islands\", \"Barbados\", \"Bermuda\", \"Seychelles\", \"Bonaire Sint Eustatius and Saba\", \"Brunei\", \"Antigua and Barbuda\", \"Saint Lucia\", \"Northern Mariana Islands\", \"Saint Vincent and the Grenadines\", \"British Virgin Islands\", \"Dominica\", \"Fiji\", \"Grenada\", \"Timor\", \"New Caledonia\", \"Vatican\", \"Laos\", \"Saint Kitts and Nevis\", \"Greenland\", \"Solomon Islands\", \"Montserrat\", \"Falkland Islands\", \"Anguilla\", \"Wallis and Futuna\", \"Marshall Islands\", \"Hong Kong\"], \"name\": \"\", \"type\": \"choropleth\", \"z\": [237572.0, 126611.0, 161106.0, 40439.0, 30537.0, 38833.0, 33560.0, 49044.0, 32791.0, 95027.0, 41394.0, 34879.0, 19809.0, 38291.0, 11352.0, 7872.0, 14543.0, 12898.0, 11327.0, 8450.0, 14614.0, 6067.0, 4858.0, 7994.0, 7539.0, 10887.0, 5540.0, 6977.0, 2674.0, 7879.0, 10522.0, 4272.0, 2404.0, 1108.0, 2896.0, 12830.0, 2266.0, 1335.0, 6022.0, 8795.0, 514.0, 2798.0, 232.0, 811.0, 2265.0, 1301.0, 1464.0, 2493.0, 3821.0, 1233.0, 6368.0, 1818.0, 1580.0, 1007.0, 2751.0, 1523.0, 826.0, 723.0, 4739.0, 329.0, 1893.0, 351.0, 1665.0, 872.0, 1873.0, 587.0, 585.0, 929.0, 1490.0, 794.0, 840.0, 1947.0, 1154.0, 1182.0, 890.0, 1111.0, 1510.0, 2048.0, 1420.0, 499.0, 28.0, 784.0, 743.0, 320.0, 382.0, 1565.0, 286.0, 1136.0, 1014.0, 907.0, 480.0, 207.0, 559.0, 755.0, 285.0, 337.0, 185.0, 433.0, 126.0, 362.0, 249.0, 349.0, 326.0, 132.0, 1115.0, 35.0, 99.0, 134.0, 74.0, 303.0, 40.0, 315.0, 83.0, 39.0, 221.0, 100.0, 232.0, 55.0, 253.0, 99.0, 27.0, 165.0, 130.0, 74.0, 152.0, 317.0, 75.0, 117.0, 28.0, 184.0, 111.0, 61.0, 157.0, 75.0, 92.0, 113.0, 89.0, 36.0, 85.0, 20.0, 62.0, 40.0, 134.0, 107.0, 70.0, 60.0, 121.0, 137.0, 62.0, 59.0, 43.0, 67.0, 57.0, 41.0, 74.0, 602.0, 44.0, 25.0, 99.0, 82.0, 23.0, 69.0, 35.0, 2.0, 42.0, 16.0, 23.0, 0.0, 3.0, 1.0, 6.0, 7.0, 32.0, 1.0, 7.0, 7.0, 7.0, 21.0, 0.0, 0.0, 1.0, 10.0, 0.0, 0.0, 25.0, 0.0, 13.0, 1.0, 7.0, 9.0, 0.0, 3.0, 3.0, 3.0, 0.0, 2.0, 0.0, 1.0, 0.0, 2.0, 0.0, 0.0, 0.0, 0.0, 0.0, 0.0, 0.0, 0.0, 1.0, 0.0, 0.0, 0.0, 0.0, 0.0]}],                        {\"coloraxis\": {\"cmax\": 237572.0, \"cmin\": 0.0, \"colorbar\": {\"title\": {\"text\": \"deaths\"}}, \"colorscale\": [[0.0, \"yellow\"], [0.16666666666666666, \"orange\"], [0.3333333333333333, \"red\"], [0.5, \"green\"], [0.6666666666666666, \"blue\"], [0.8333333333333334, \"purple\"], [1.0, \"black\"]]}, \"geo\": {\"center\": {}, \"domain\": {\"x\": [0.0, 1.0], \"y\": [0.0, 1.0]}}, \"legend\": {\"tracegroupgap\": 0}, \"template\": {\"data\": {\"bar\": [{\"error_x\": {\"color\": \"#2a3f5f\"}, \"error_y\": {\"color\": \"#2a3f5f\"}, \"marker\": {\"line\": {\"color\": \"#E5ECF6\", \"width\": 0.5}}, \"type\": \"bar\"}], \"barpolar\": [{\"marker\": {\"line\": {\"color\": \"#E5ECF6\", \"width\": 0.5}}, \"type\": \"barpolar\"}], \"carpet\": [{\"aaxis\": {\"endlinecolor\": \"#2a3f5f\", \"gridcolor\": \"white\", \"linecolor\": \"white\", \"minorgridcolor\": \"white\", \"startlinecolor\": \"#2a3f5f\"}, \"baxis\": {\"endlinecolor\": \"#2a3f5f\", \"gridcolor\": \"white\", \"linecolor\": \"white\", \"minorgridcolor\": \"white\", \"startlinecolor\": \"#2a3f5f\"}, \"type\": \"carpet\"}], \"choropleth\": [{\"colorbar\": {\"outlinewidth\": 0, \"ticks\": \"\"}, \"type\": \"choropleth\"}], \"contour\": [{\"colorbar\": {\"outlinewidth\": 0, \"ticks\": \"\"}, \"colorscale\": [[0.0, \"#0d0887\"], [0.1111111111111111, \"#46039f\"], [0.2222222222222222, \"#7201a8\"], [0.3333333333333333, \"#9c179e\"], [0.4444444444444444, \"#bd3786\"], [0.5555555555555556, \"#d8576b\"], [0.6666666666666666, \"#ed7953\"], [0.7777777777777778, \"#fb9f3a\"], [0.8888888888888888, \"#fdca26\"], [1.0, \"#f0f921\"]], \"type\": \"contour\"}], \"contourcarpet\": [{\"colorbar\": {\"outlinewidth\": 0, \"ticks\": \"\"}, \"type\": \"contourcarpet\"}], \"heatmap\": [{\"colorbar\": {\"outlinewidth\": 0, \"ticks\": \"\"}, \"colorscale\": [[0.0, \"#0d0887\"], [0.1111111111111111, \"#46039f\"], [0.2222222222222222, \"#7201a8\"], [0.3333333333333333, \"#9c179e\"], [0.4444444444444444, \"#bd3786\"], [0.5555555555555556, \"#d8576b\"], [0.6666666666666666, \"#ed7953\"], [0.7777777777777778, \"#fb9f3a\"], [0.8888888888888888, \"#fdca26\"], [1.0, \"#f0f921\"]], \"type\": \"heatmap\"}], \"heatmapgl\": [{\"colorbar\": {\"outlinewidth\": 0, \"ticks\": \"\"}, \"colorscale\": [[0.0, \"#0d0887\"], [0.1111111111111111, \"#46039f\"], [0.2222222222222222, \"#7201a8\"], [0.3333333333333333, \"#9c179e\"], [0.4444444444444444, \"#bd3786\"], [0.5555555555555556, \"#d8576b\"], [0.6666666666666666, \"#ed7953\"], [0.7777777777777778, \"#fb9f3a\"], [0.8888888888888888, \"#fdca26\"], [1.0, \"#f0f921\"]], \"type\": \"heatmapgl\"}], \"histogram\": [{\"marker\": {\"colorbar\": {\"outlinewidth\": 0, \"ticks\": \"\"}}, \"type\": \"histogram\"}], \"histogram2d\": [{\"colorbar\": {\"outlinewidth\": 0, \"ticks\": \"\"}, \"colorscale\": [[0.0, \"#0d0887\"], [0.1111111111111111, \"#46039f\"], [0.2222222222222222, \"#7201a8\"], [0.3333333333333333, \"#9c179e\"], [0.4444444444444444, \"#bd3786\"], [0.5555555555555556, \"#d8576b\"], [0.6666666666666666, \"#ed7953\"], [0.7777777777777778, \"#fb9f3a\"], [0.8888888888888888, \"#fdca26\"], [1.0, \"#f0f921\"]], \"type\": \"histogram2d\"}], \"histogram2dcontour\": [{\"colorbar\": {\"outlinewidth\": 0, \"ticks\": \"\"}, \"colorscale\": [[0.0, \"#0d0887\"], [0.1111111111111111, \"#46039f\"], [0.2222222222222222, \"#7201a8\"], [0.3333333333333333, \"#9c179e\"], [0.4444444444444444, \"#bd3786\"], [0.5555555555555556, \"#d8576b\"], [0.6666666666666666, \"#ed7953\"], [0.7777777777777778, \"#fb9f3a\"], [0.8888888888888888, \"#fdca26\"], [1.0, \"#f0f921\"]], \"type\": \"histogram2dcontour\"}], \"mesh3d\": [{\"colorbar\": {\"outlinewidth\": 0, \"ticks\": \"\"}, \"type\": \"mesh3d\"}], \"parcoords\": [{\"line\": {\"colorbar\": {\"outlinewidth\": 0, \"ticks\": \"\"}}, \"type\": \"parcoords\"}], \"pie\": [{\"automargin\": true, \"type\": \"pie\"}], \"scatter\": [{\"marker\": {\"colorbar\": {\"outlinewidth\": 0, \"ticks\": \"\"}}, \"type\": \"scatter\"}], \"scatter3d\": [{\"line\": {\"colorbar\": {\"outlinewidth\": 0, \"ticks\": \"\"}}, \"marker\": {\"colorbar\": {\"outlinewidth\": 0, \"ticks\": \"\"}}, \"type\": \"scatter3d\"}], \"scattercarpet\": [{\"marker\": {\"colorbar\": {\"outlinewidth\": 0, \"ticks\": \"\"}}, \"type\": \"scattercarpet\"}], \"scattergeo\": [{\"marker\": {\"colorbar\": {\"outlinewidth\": 0, \"ticks\": \"\"}}, \"type\": \"scattergeo\"}], \"scattergl\": [{\"marker\": {\"colorbar\": {\"outlinewidth\": 0, \"ticks\": \"\"}}, \"type\": \"scattergl\"}], \"scattermapbox\": [{\"marker\": {\"colorbar\": {\"outlinewidth\": 0, \"ticks\": \"\"}}, \"type\": \"scattermapbox\"}], \"scatterpolar\": [{\"marker\": {\"colorbar\": {\"outlinewidth\": 0, \"ticks\": \"\"}}, \"type\": \"scatterpolar\"}], \"scatterpolargl\": [{\"marker\": {\"colorbar\": {\"outlinewidth\": 0, \"ticks\": \"\"}}, \"type\": \"scatterpolargl\"}], \"scatterternary\": [{\"marker\": {\"colorbar\": {\"outlinewidth\": 0, \"ticks\": \"\"}}, \"type\": \"scatterternary\"}], \"surface\": [{\"colorbar\": {\"outlinewidth\": 0, \"ticks\": \"\"}, \"colorscale\": [[0.0, \"#0d0887\"], [0.1111111111111111, \"#46039f\"], [0.2222222222222222, \"#7201a8\"], [0.3333333333333333, \"#9c179e\"], [0.4444444444444444, \"#bd3786\"], [0.5555555555555556, \"#d8576b\"], [0.6666666666666666, \"#ed7953\"], [0.7777777777777778, \"#fb9f3a\"], [0.8888888888888888, \"#fdca26\"], [1.0, \"#f0f921\"]], \"type\": \"surface\"}], \"table\": [{\"cells\": {\"fill\": {\"color\": \"#EBF0F8\"}, \"line\": {\"color\": \"white\"}}, \"header\": {\"fill\": {\"color\": \"#C8D4E3\"}, \"line\": {\"color\": \"white\"}}, \"type\": \"table\"}]}, \"layout\": {\"annotationdefaults\": {\"arrowcolor\": \"#2a3f5f\", \"arrowhead\": 0, \"arrowwidth\": 1}, \"coloraxis\": {\"colorbar\": {\"outlinewidth\": 0, \"ticks\": \"\"}}, \"colorscale\": {\"diverging\": [[0, \"#8e0152\"], [0.1, \"#c51b7d\"], [0.2, \"#de77ae\"], [0.3, \"#f1b6da\"], [0.4, \"#fde0ef\"], [0.5, \"#f7f7f7\"], [0.6, \"#e6f5d0\"], [0.7, \"#b8e186\"], [0.8, \"#7fbc41\"], [0.9, \"#4d9221\"], [1, \"#276419\"]], \"sequential\": [[0.0, \"#0d0887\"], [0.1111111111111111, \"#46039f\"], [0.2222222222222222, \"#7201a8\"], [0.3333333333333333, \"#9c179e\"], [0.4444444444444444, \"#bd3786\"], [0.5555555555555556, \"#d8576b\"], [0.6666666666666666, \"#ed7953\"], [0.7777777777777778, \"#fb9f3a\"], [0.8888888888888888, \"#fdca26\"], [1.0, \"#f0f921\"]], \"sequentialminus\": [[0.0, \"#0d0887\"], [0.1111111111111111, \"#46039f\"], [0.2222222222222222, \"#7201a8\"], [0.3333333333333333, \"#9c179e\"], [0.4444444444444444, \"#bd3786\"], [0.5555555555555556, \"#d8576b\"], [0.6666666666666666, \"#ed7953\"], [0.7777777777777778, \"#fb9f3a\"], [0.8888888888888888, \"#fdca26\"], [1.0, \"#f0f921\"]]}, \"colorway\": [\"#636efa\", \"#EF553B\", \"#00cc96\", \"#ab63fa\", \"#FFA15A\", \"#19d3f3\", \"#FF6692\", \"#B6E880\", \"#FF97FF\", \"#FECB52\"], \"font\": {\"color\": \"#2a3f5f\"}, \"geo\": {\"bgcolor\": \"white\", \"lakecolor\": \"white\", \"landcolor\": \"#E5ECF6\", \"showlakes\": true, \"showland\": true, \"subunitcolor\": \"white\"}, \"hoverlabel\": {\"align\": \"left\"}, \"hovermode\": \"closest\", \"mapbox\": {\"style\": \"light\"}, \"paper_bgcolor\": \"white\", \"plot_bgcolor\": \"#E5ECF6\", \"polar\": {\"angularaxis\": {\"gridcolor\": \"white\", \"linecolor\": \"white\", \"ticks\": \"\"}, \"bgcolor\": \"#E5ECF6\", \"radialaxis\": {\"gridcolor\": \"white\", \"linecolor\": \"white\", \"ticks\": \"\"}}, \"scene\": {\"xaxis\": {\"backgroundcolor\": \"#E5ECF6\", \"gridcolor\": \"white\", \"gridwidth\": 2, \"linecolor\": \"white\", \"showbackground\": true, \"ticks\": \"\", \"zerolinecolor\": \"white\"}, \"yaxis\": {\"backgroundcolor\": \"#E5ECF6\", \"gridcolor\": \"white\", \"gridwidth\": 2, \"linecolor\": \"white\", \"showbackground\": true, \"ticks\": \"\", \"zerolinecolor\": \"white\"}, \"zaxis\": {\"backgroundcolor\": \"#E5ECF6\", \"gridcolor\": \"white\", \"gridwidth\": 2, \"linecolor\": \"white\", \"showbackground\": true, \"ticks\": \"\", \"zerolinecolor\": \"white\"}}, \"shapedefaults\": {\"line\": {\"color\": \"#2a3f5f\"}}, \"ternary\": {\"aaxis\": {\"gridcolor\": \"white\", \"linecolor\": \"white\", \"ticks\": \"\"}, \"baxis\": {\"gridcolor\": \"white\", \"linecolor\": \"white\", \"ticks\": \"\"}, \"bgcolor\": \"#E5ECF6\", \"caxis\": {\"gridcolor\": \"white\", \"linecolor\": \"white\", \"ticks\": \"\"}}, \"title\": {\"x\": 0.05}, \"xaxis\": {\"automargin\": true, \"gridcolor\": \"white\", \"linecolor\": \"white\", \"ticks\": \"\", \"title\": {\"standoff\": 15}, \"zerolinecolor\": \"white\", \"zerolinewidth\": 2}, \"yaxis\": {\"automargin\": true, \"gridcolor\": \"white\", \"linecolor\": \"white\", \"ticks\": \"\", \"title\": {\"standoff\": 15}, \"zerolinecolor\": \"white\", \"zerolinewidth\": 2}}}, \"title\": {\"text\": \"Countries with deaths\"}},                        {\"responsive\": true}                    ).then(function(){\n",
       "                            \n",
       "var gd = document.getElementById('cb4e69f2-c82d-4778-ad2d-098a33e0ead3');\n",
       "var x = new MutationObserver(function (mutations, observer) {{\n",
       "        var display = window.getComputedStyle(gd).display;\n",
       "        if (!display || display === 'none') {{\n",
       "            console.log([gd, 'removed!']);\n",
       "            Plotly.purge(gd);\n",
       "            observer.disconnect();\n",
       "        }}\n",
       "}});\n",
       "\n",
       "// Listen for the removal of the full notebook cells\n",
       "var notebookContainer = gd.closest('#notebook-container');\n",
       "if (notebookContainer) {{\n",
       "    x.observe(notebookContainer, {childList: true});\n",
       "}}\n",
       "\n",
       "// Listen for the clearing of the current output cell\n",
       "var outputEl = gd.closest('.output');\n",
       "if (outputEl) {{\n",
       "    x.observe(outputEl, {childList: true});\n",
       "}}\n",
       "\n",
       "                        })                };                });            </script>        </div>"
      ]
     },
     "metadata": {},
     "output_type": "display_data"
    }
   ],
   "source": [
    "plot_map(df_owid_covid, 'deaths')"
   ]
  },
  {
   "cell_type": "code",
   "execution_count": null,
   "metadata": {},
   "outputs": [],
   "source": []
  },
  {
   "cell_type": "code",
   "execution_count": null,
   "metadata": {},
   "outputs": [],
   "source": []
  }
 ],
 "metadata": {
  "kernelspec": {
   "display_name": "Python 2",
   "language": "python",
   "name": "python2"
  },
  "language_info": {
   "codemirror_mode": {
    "name": "ipython",
    "version": 2
   },
   "file_extension": ".py",
   "mimetype": "text/x-python",
   "name": "python",
   "nbconvert_exporter": "python",
   "pygments_lexer": "ipython2",
   "version": "2.7.15"
  }
 },
 "nbformat": 4,
 "nbformat_minor": 2
}
