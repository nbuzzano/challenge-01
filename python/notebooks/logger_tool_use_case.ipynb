{
 "cells": [
  {
   "cell_type": "code",
   "execution_count": 15,
   "metadata": {},
   "outputs": [],
   "source": [
    "import os\n",
    "os.environ['CURRENT_ENV'] = 'dev'\n",
    "from company_utils.logger import Logger"
   ]
  },
  {
   "cell_type": "code",
   "execution_count": null,
   "metadata": {},
   "outputs": [],
   "source": []
  },
  {
   "cell_type": "markdown",
   "metadata": {},
   "source": [
    "We can configure the Logger class with the logger config json and just instantiate and use a set of different loggers."
   ]
  },
  {
   "cell_type": "code",
   "execution_count": 16,
   "metadata": {},
   "outputs": [],
   "source": [
    "config_path = 'config/'\n",
    "Logger.set_configs(config_path + 'log_config.json', config_path + 'logging_levels.json')\n",
    "warning_logger = Logger.get_logger('warning_logger')\n",
    "info_logger = Logger.get_logger('info_logger')\n",
    "debug_logger = Logger.get_logger('debug_logger')"
   ]
  },
  {
   "cell_type": "markdown",
   "metadata": {},
   "source": [
    "Since our CURRENT_ENV key has 'dev' value setted, our Logger instances will create a 'dev' folder (if its not created yet) to store all the logger outputs in the file specified by the log_config json file."
   ]
  },
  {
   "cell_type": "code",
   "execution_count": 12,
   "metadata": {},
   "outputs": [],
   "source": [
    "log_msg = 'log certain event'\n",
    "warning_logger.log(log_msg)\n",
    "debug_logger.log(log_msg)\n",
    "info_logger.log(log_msg)"
   ]
  },
  {
   "cell_type": "markdown",
   "metadata": {},
   "source": [
    "Also if we want to, we could configure Logger class with another logger config json and load this new loggers. Doing something like this:"
   ]
  },
  {
   "cell_type": "markdown",
   "metadata": {},
   "source": [
    "Logger.set_configs('some_new_config_path.json', 'some_new_logging_levels.json')\n",
    "\n",
    "some_new_logger_1 = Logger.get_logger('some_new_logger_1')\n",
    "\n",
    "some_new_logger_2 = Logger.get_logger('some_new_logger_2')\n",
    "\n",
    "some_new_logger_1.log(log_msg)\n",
    "\n",
    "some_new_logger_2.log(log_msg)"
   ]
  },
  {
   "cell_type": "code",
   "execution_count": null,
   "metadata": {},
   "outputs": [],
   "source": []
  }
 ],
 "metadata": {
  "kernelspec": {
   "display_name": "Python 3",
   "language": "python",
   "name": "python3"
  },
  "language_info": {
   "codemirror_mode": {
    "name": "ipython",
    "version": 3
   },
   "file_extension": ".py",
   "mimetype": "text/x-python",
   "name": "python",
   "nbconvert_exporter": "python",
   "pygments_lexer": "ipython3",
   "version": "3.6.10"
  }
 },
 "nbformat": 4,
 "nbformat_minor": 2
}
