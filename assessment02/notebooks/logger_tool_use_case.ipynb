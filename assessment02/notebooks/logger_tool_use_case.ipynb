{
 "cells": [
  {
   "cell_type": "code",
   "execution_count": 8,
   "metadata": {},
   "outputs": [],
   "source": [
    "import os\n",
    "os.environ['CURRENT_ENV'] = 'dev'\n",
    "from sirena_utils.logger import Logger"
   ]
  },
  {
   "cell_type": "code",
   "execution_count": 9,
   "metadata": {},
   "outputs": [],
   "source": [
    "config_path = 'config/'\n",
    "log_msg = 'log certain event'"
   ]
  },
  {
   "cell_type": "code",
   "execution_count": null,
   "metadata": {},
   "outputs": [],
   "source": []
  },
  {
   "cell_type": "markdown",
   "metadata": {},
   "source": [
    "We can configure the Logger class with the logger config json and just instantiate and use them."
   ]
  },
  {
   "cell_type": "code",
   "execution_count": 10,
   "metadata": {},
   "outputs": [],
   "source": [
    "Logger.set_configs(config_path + 'log_config.txt', config_path + 'logging_levels.txt')\n",
    "warning_logger = Logger.get_logger('warning_logger')\n",
    "info_logger = Logger.get_logger('info_logger')\n",
    "debug_logger = Logger.get_logger('debug_logger')"
   ]
  },
  {
   "cell_type": "code",
   "execution_count": 12,
   "metadata": {},
   "outputs": [],
   "source": [
    "warning_logger.log(log_msg)\n",
    "debug_logger.log(log_msg)\n",
    "info_logger.log(log_msg)"
   ]
  },
  {
   "cell_type": "code",
   "execution_count": null,
   "metadata": {},
   "outputs": [],
   "source": []
  },
  {
   "cell_type": "markdown",
   "metadata": {},
   "source": [
    "Also if we want to, we could configure Logger class with another logger config json and load this new loggers. Doing something like this:"
   ]
  },
  {
   "cell_type": "markdown",
   "metadata": {},
   "source": [
    "1. Logger.set_configs('some_new_config_path', 'some_new_logging_levels')\n",
    "2. some_new_logger_1 = Logger.get_logger('some_new_logger_1')\n",
    "3. some_new_logger_2 = Logger.get_logger('some_new_logger_2')"
   ]
  },
  {
   "cell_type": "code",
   "execution_count": null,
   "metadata": {},
   "outputs": [],
   "source": []
  }
 ],
 "metadata": {
  "kernelspec": {
   "display_name": "Python 2",
   "language": "python",
   "name": "python2"
  },
  "language_info": {
   "codemirror_mode": {
    "name": "ipython",
    "version": 2
   },
   "file_extension": ".py",
   "mimetype": "text/x-python",
   "name": "python",
   "nbconvert_exporter": "python",
   "pygments_lexer": "ipython2",
   "version": "2.7.15"
  }
 },
 "nbformat": 4,
 "nbformat_minor": 2
}
